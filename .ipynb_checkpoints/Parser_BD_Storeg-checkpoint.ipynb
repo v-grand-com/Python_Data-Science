{
 "cells": [
  {
   "cell_type": "code",
   "execution_count": 157,
   "id": "566149d1",
   "metadata": {},
   "outputs": [
    {
     "name": "stdout",
     "output_type": "stream",
     "text": [
      "[INFO] PostgreSQL connection closed\n"
     ]
    }
   ],
   "source": [
    "import psycopg2\n",
    "import numpy as np\n",
    "import pandas as pd\n",
    "\n",
    "# Запрос infosymbol\n",
    "try:\n",
    "    # connect to exist database\n",
    "    connection = psycopg2.connect(\n",
    "        host='35.184.100.252',\n",
    "        user='postgres',\n",
    "        password='jmgXK4xPXukY',\n",
    "        database='data_db'    \n",
    "    )\n",
    "    connection.autocommit = True\n",
    "    \n",
    "    cursor = connection.cursor()\n",
    "\n",
    "    cursor.execute('''SELECT symbolnum, sql_server_time, symbolname, digets, pips, weaght FROM current_mt_db.infosymbol\n",
    "    where symbolnum<100 order by symbolnum''')\n",
    "    \n",
    "    date_select = cursor.fetchall()\n",
    "    my_array = np.asarray (date_select)\n",
    "    infosymbol = pd.DataFrame(my_array, columns = ['symbolnum','sql_server_time','symbolname', 'digets', 'pips', 'weaght'])\n",
    "except Exception as _ex:\n",
    "    print(\"[INFO] Error while working with PostgreSQL\", _ex)\n",
    "finally:\n",
    "    if connection:\n",
    "        cursor.close()\n",
    "        connection.close()\n",
    "        print(\"[INFO] PostgreSQL connection closed\")\n",
    "\n",
    "\n",
    "#infosymbol"
   ]
  },
  {
   "cell_type": "code",
   "execution_count": 156,
   "id": "2be67e0b",
   "metadata": {},
   "outputs": [],
   "source": [
    "diget=pow(10,int(infosymbol[infosymbol['symbolnum']==1]['digets']))\n",
    "#symbolname=my_array[0,2]\n"
   ]
  },
  {
   "cell_type": "code",
   "execution_count": 120,
   "id": "d2992971",
   "metadata": {},
   "outputs": [],
   "source": [
    "#Запрос котировок\n",
    "def load_data(symbolnum, year, month, day):\n",
    "    try:\n",
    "        # connect to exist database\n",
    "        connection = psycopg2.connect(\n",
    "            host='35.184.100.252',\n",
    "            user='postgres',\n",
    "            password='jmgXK4xPXukY',\n",
    "            database='data_db'    \n",
    "        )\n",
    "        connection.autocommit = True\n",
    "\n",
    "        cursor = connection.cursor()\n",
    "\n",
    "        cursor.execute(f'''SELECT datetimesecond, symbolnum, open_bid, high_bid, low_bid, close_bid, open_ask, high_ask, low_ask, close_ask\n",
    "        FROM mt_input_history.inputints1\n",
    "        where symbolnum=1 \n",
    "        and EXTRACT(YEAR FROM datetimesecond)={year}\n",
    "        and EXTRACT(month FROM datetimesecond)={month}\n",
    "        and EXTRACT(Day FROM datetimesecond)={day}\n",
    "        order by id asc''')\n",
    "\n",
    "        date_select = cursor.fetchall()\n",
    "        my_array = np.asarray (date_select)\n",
    "        df = pd.DataFrame(my_array, columns = ['datetimesecond','symbolnum','open_bid', 'high_bid', 'low_bid', 'close_bid', \n",
    "                                           'open_ask', 'high_ask', 'low_ask', 'close_ask'])\n",
    "        df = df.drop('symbolnum', axis=1)\n",
    "\n",
    "    except Exception as _ex:\n",
    "        print(\"[INFO] Error while working with PostgreSQL\", _ex)\n",
    "    finally:\n",
    "        if connection:\n",
    "            # cursor.close()\n",
    "            connection.close()\n",
    "            print(\"[INFO] PostgreSQL connection closed\")\n",
    "\n",
    "    return df"
   ]
  },
  {
   "cell_type": "code",
   "execution_count": 117,
   "id": "58d18a81",
   "metadata": {},
   "outputs": [],
   "source": [
    "def digets_norm(df_exit, diget):\n",
    "    df=df_exit.copy()\n",
    "    df['open_bid']=df['open_bid']/diget\n",
    "    df['high_bid']=df['high_bid']/diget\n",
    "    df['low_bid']=df['low_bid']/diget\n",
    "    df['close_bid']=df['close_bid']/diget\n",
    "    df['open_ask']=df['open_ask']/diget\n",
    "    df['high_ask']=df['high_ask']/diget\n",
    "    df['low_ask']=df['low_ask']/diget\n",
    "    df['close_ask']=df['close_ask']/diget\n",
    "    \n",
    "    return df"
   ]
  },
  {
   "cell_type": "code",
   "execution_count": 143,
   "id": "d4dd6661",
   "metadata": {},
   "outputs": [],
   "source": [
    "def save_as(df, symbolname, year, month, day):\n",
    "    if month<10:\n",
    "        month_str=f'0{str(month)}'\n",
    "    else:\n",
    "        month_str=f'{str(month)}'\n",
    "    if day<10:\n",
    "        day_str=f'0{str(day)}'\n",
    "    else:\n",
    "        day_str=f'{str(day)}'\n",
    "    file_name=f'{year}_{month_str}_{day_str}_{symbolname}.csv'\n",
    "    \n",
    "    df.to_csv(\n",
    "        file_name,  # шлях до файлу, в який робимо запис\n",
    "        sep=';',  # роздільник колонок\n",
    "        header=True,  # чи записувати імена колонок у файл (True - записувати, False - ні)\n",
    "        index=False,  # записувати індекс у файл (True - записувати, False - ні)\n",
    "    )\n",
    "    return file_name\n"
   ]
  },
  {
   "cell_type": "code",
   "execution_count": 155,
   "id": "089514e4",
   "metadata": {},
   "outputs": [
    {
     "name": "stdout",
     "output_type": "stream",
     "text": [
      "[INFO] PostgreSQL connection closed\n"
     ]
    }
   ],
   "source": [
    "year=2021\n",
    "month_start=3\n",
    "day_start=5\n",
    "\n",
    "df=load_data(1, year, month_start, day_start)\n",
    "df_norm=digets_norm(df, diget)\n",
    "save_as(df_norm, symbolname, year, month_start, day_start )"
   ]
  },
  {
   "cell_type": "code",
   "execution_count": 151,
   "id": "e9f81949",
   "metadata": {},
   "outputs": [
    {
     "data": {
      "text/plain": [
       "22011"
      ]
     },
     "execution_count": 151,
     "metadata": {},
     "output_type": "execute_result"
    }
   ],
   "source": [
    "df_norm.shape[0]"
   ]
  },
  {
   "cell_type": "code",
   "execution_count": 154,
   "id": "29840a66",
   "metadata": {},
   "outputs": [
    {
     "data": {
      "text/plain": [
       "Timestamp('2021-03-04 23:59:59')"
      ]
     },
     "execution_count": 154,
     "metadata": {},
     "output_type": "execute_result"
    }
   ],
   "source": [
    "df_norm['datetimesecond'].min()\n",
    "df_norm['datetimesecond'].max()"
   ]
  },
  {
   "cell_type": "code",
   "execution_count": null,
   "id": "e6363afe",
   "metadata": {},
   "outputs": [],
   "source": []
  }
 ],
 "metadata": {
  "kernelspec": {
   "display_name": "Python 3 (ipykernel)",
   "language": "python",
   "name": "python3"
  },
  "language_info": {
   "codemirror_mode": {
    "name": "ipython",
    "version": 3
   },
   "file_extension": ".py",
   "mimetype": "text/x-python",
   "name": "python",
   "nbconvert_exporter": "python",
   "pygments_lexer": "ipython3",
   "version": "3.11.0"
  }
 },
 "nbformat": 4,
 "nbformat_minor": 5
}
