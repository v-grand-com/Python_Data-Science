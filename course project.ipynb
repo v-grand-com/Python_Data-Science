{
 "cells": [
  {
   "cell_type": "markdown",
   "metadata": {
    "slideshow": {
     "slide_type": "slide"
    }
   },
   "source": [
    "###### Project"
   ]
  },
  {
   "cell_type": "code",
   "execution_count": 165,
   "metadata": {},
   "outputs": [],
   "source": [
    "import pandas as pd\n",
    "#import sqlite3\n",
    "import numpy as np\n",
    "import matplotlib as mpl\n",
    "import matplotlib.pyplot as plt\n",
    "import math\n",
    "import datetime as dt\n",
    "import folium\n",
    "from folium import plugins\n",
    "import geopandas\n",
    "\n",
    "spray_data = pd.read_csv(\n",
    "    'Files/spray.csv',  # шлях до файлу, який містить дані\n",
    "    sep=',',  # роздільник стовпців\n",
    "    header=0  # номер рядка, що містить заголовок (якщо заголовка немає, можна передати None)\n",
    ")\n",
    "\n",
    "train_data = pd.read_csv(\n",
    "    'Files/train.csv',  # шлях до файлу, який містить дані\n",
    "    sep=',',  # роздільник стовпців\n",
    "    \n",
    "    header=0  # номер рядка, що містить заголовок (якщо заголовка немає, можна передати None)\n",
    ")\n",
    "\n",
    "weather_data = pd.read_csv(\n",
    "    'Files/weather.csv',  # шлях до файлу, який містить дані\n",
    "    sep=',',  # роздільник стовпців\n",
    "    header=0  # номер рядка, що містить заголовок (якщо заголовка немає, можна передати None)\n",
    ")\n",
    "\n",
    "test_truncated_data = pd.read_excel(\n",
    "    'Files/test_truncated.xlsx',\n",
    "    sheet_name='test_truncated',  # прочитати всі листи\n",
    "    usecols=\"A:J\"\n",
    "    #nrows=5\n",
    ")\n",
    "DataSets={1:spray_data,\n",
    "         2:train_data,\n",
    "         3:weather_data,\n",
    "         4:test_truncated_data}\n",
    "\n",
    "#test_truncated_data.head()\n",
    "#dates=spray_data [['Date'],['Time']]\n",
    "#train_data.groupby(train_data[\"Address\"])\n",
    "#dir(spray_data)\n",
    "#spray_data.amin(axes='Latitude')\n",
    "#test_truncated_data.info()\n",
    "#train_data\n",
    "#weather_data"
   ]
  },
  {
   "cell_type": "code",
   "execution_count": 186,
   "metadata": {},
   "outputs": [],
   "source": [
    "def add_datetime(train_data):\n",
    "    train_data['day']=pd.to_datetime(train_data.Date).dt.day\n",
    "    train_data['weekday']=pd.to_datetime(train_data.Date).dt.weekday\n",
    "    train_data['month']=pd.to_datetime(train_data.Date).dt.month\n",
    "    train_data['year']=pd.to_datetime(train_data.Date).dt.year\n",
    "    return train_data\n",
    "\n",
    "train_data=add_datetime(train_data)\n",
    "train_data['RESTUANS']=train_data['Species'].str.contains('RESTUANS')\n",
    "train_data['PIPIENS']=train_data['Species'].str.contains('PIPIENS')\n",
    "\n",
    "test_truncated_data=add_datetime(test_truncated_data)\n",
    "weather_data=add_datetime(weather_data)"
   ]
  },
  {
   "cell_type": "code",
   "execution_count": 96,
   "metadata": {},
   "outputs": [],
   "source": [
    "geometry = geopandas.points_from_xy(train_data.Longitude, train_data.Latitude)\n",
    "geo_df = geopandas.GeoDataFrame(\n",
    "    train_data, geometry=geometry\n",
    ")\n",
    "\n",
    "#geo_df.head()\n",
    "\n",
    "# Create a geometry list from the GeoDataFrame\n",
    "geo_df_list = [[point.xy[1][0], point.xy[0][0]] for point in geo_df.geometry]\n",
    "#geo_df_list"
   ]
  },
  {
   "cell_type": "code",
   "execution_count": 97,
   "metadata": {},
   "outputs": [],
   "source": [
    "def numMosquitos(draft_year, draft_month):\n",
    "    numMosquitos=train_data[(geo_df['Trap'] == geo_df.Trap[i]) & (geo_df['month']==draft_month) \n",
    "                   & (geo_df['year']==draft_year)]['WnvPresent'].sum()\n",
    "    return str(numMosquitos)"
   ]
  },
  {
   "cell_type": "code",
   "execution_count": 93,
   "metadata": {},
   "outputs": [
    {
     "name": "stderr",
     "output_type": "stream",
     "text": [
      "C:\\Users\\v.velichko\\AppData\\Local\\Temp\\ipykernel_12712\\3825397749.py:13: FutureWarning: The default value of numeric_only in DataFrameGroupBy.sum is deprecated. In a future version, numeric_only will default to False. Either specify numeric_only or select only columns which should be valid for the function.\n",
      "  train_data_draft=data_year[(data_year['month']==draft_month)].groupby('Trap').sum()\n",
      "C:\\Users\\v.velichko\\AppData\\Local\\Temp\\ipykernel_12712\\3825397749.py:13: FutureWarning: The default value of numeric_only in DataFrameGroupBy.sum is deprecated. In a future version, numeric_only will default to False. Either specify numeric_only or select only columns which should be valid for the function.\n",
      "  train_data_draft=data_year[(data_year['month']==draft_month)].groupby('Trap').sum()\n",
      "C:\\Users\\v.velichko\\AppData\\Local\\Temp\\ipykernel_12712\\3825397749.py:13: FutureWarning: The default value of numeric_only in DataFrameGroupBy.sum is deprecated. In a future version, numeric_only will default to False. Either specify numeric_only or select only columns which should be valid for the function.\n",
      "  train_data_draft=data_year[(data_year['month']==draft_month)].groupby('Trap').sum()\n",
      "C:\\Users\\v.velichko\\AppData\\Local\\Temp\\ipykernel_12712\\3825397749.py:13: FutureWarning: The default value of numeric_only in DataFrameGroupBy.sum is deprecated. In a future version, numeric_only will default to False. Either specify numeric_only or select only columns which should be valid for the function.\n",
      "  train_data_draft=data_year[(data_year['month']==draft_month)].groupby('Trap').sum()\n",
      "C:\\Users\\v.velichko\\AppData\\Local\\Temp\\ipykernel_12712\\3825397749.py:13: FutureWarning: The default value of numeric_only in DataFrameGroupBy.sum is deprecated. In a future version, numeric_only will default to False. Either specify numeric_only or select only columns which should be valid for the function.\n",
      "  train_data_draft=data_year[(data_year['month']==draft_month)].groupby('Trap').sum()\n",
      "C:\\Users\\v.velichko\\AppData\\Local\\Temp\\ipykernel_12712\\3825397749.py:13: FutureWarning: The default value of numeric_only in DataFrameGroupBy.sum is deprecated. In a future version, numeric_only will default to False. Either specify numeric_only or select only columns which should be valid for the function.\n",
      "  train_data_draft=data_year[(data_year['month']==draft_month)].groupby('Trap').sum()\n",
      "C:\\Users\\v.velichko\\AppData\\Local\\Temp\\ipykernel_12712\\3825397749.py:13: FutureWarning: The default value of numeric_only in DataFrameGroupBy.sum is deprecated. In a future version, numeric_only will default to False. Either specify numeric_only or select only columns which should be valid for the function.\n",
      "  train_data_draft=data_year[(data_year['month']==draft_month)].groupby('Trap').sum()\n",
      "C:\\Users\\v.velichko\\AppData\\Local\\Temp\\ipykernel_12712\\3825397749.py:13: FutureWarning: The default value of numeric_only in DataFrameGroupBy.sum is deprecated. In a future version, numeric_only will default to False. Either specify numeric_only or select only columns which should be valid for the function.\n",
      "  train_data_draft=data_year[(data_year['month']==draft_month)].groupby('Trap').sum()\n",
      "C:\\Users\\v.velichko\\AppData\\Local\\Temp\\ipykernel_12712\\3825397749.py:13: FutureWarning: The default value of numeric_only in DataFrameGroupBy.sum is deprecated. In a future version, numeric_only will default to False. Either specify numeric_only or select only columns which should be valid for the function.\n",
      "  train_data_draft=data_year[(data_year['month']==draft_month)].groupby('Trap').sum()\n",
      "C:\\Users\\v.velichko\\AppData\\Local\\Temp\\ipykernel_12712\\3825397749.py:13: FutureWarning: The default value of numeric_only in DataFrameGroupBy.sum is deprecated. In a future version, numeric_only will default to False. Either specify numeric_only or select only columns which should be valid for the function.\n",
      "  train_data_draft=data_year[(data_year['month']==draft_month)].groupby('Trap').sum()\n",
      "C:\\Users\\v.velichko\\AppData\\Local\\Temp\\ipykernel_12712\\3825397749.py:13: FutureWarning: The default value of numeric_only in DataFrameGroupBy.sum is deprecated. In a future version, numeric_only will default to False. Either specify numeric_only or select only columns which should be valid for the function.\n",
      "  train_data_draft=data_year[(data_year['month']==draft_month)].groupby('Trap').sum()\n",
      "C:\\Users\\v.velichko\\AppData\\Local\\Temp\\ipykernel_12712\\3825397749.py:13: FutureWarning: The default value of numeric_only in DataFrameGroupBy.sum is deprecated. In a future version, numeric_only will default to False. Either specify numeric_only or select only columns which should be valid for the function.\n",
      "  train_data_draft=data_year[(data_year['month']==draft_month)].groupby('Trap').sum()\n"
     ]
    }
   ],
   "source": [
    "draft_year_list={2007, 2009, 2013}\n",
    "draft_month_list={6, 7, 8, 9}\n",
    "\n",
    "map_ = folium.Map(location=[train_data['Latitude'].mean(),  train_data['Longitude'].mean()],\n",
    "               tiles=\"Stamen Terrain\", zoom_start=10, control_scale=False)\n",
    "\n",
    "for draft_year in draft_year_list:\n",
    "    data_year=train_data[train_data['year']==draft_year].copy()\n",
    "    #print(data_year.shape)\n",
    "\n",
    "    for draft_month in draft_month_list:\n",
    "        #train_data_draft=data_year[(data_year['month']==draft_month)].copy()\n",
    "        points = (train_data_draft.Latitude.fillna(0),train_data_draft.Longitude.fillna(0))\n",
    "        train_data_draft=data_year[(data_year['month']==draft_month)].groupby('Trap').sum()\n",
    "        #points = (train_data_draft.Latitude.fillna(0),train_data_draft.Longitude.fillna(0))\n",
    "        coordinates =[]\n",
    "        # Setting lat and long \n",
    "        lat = points[0]\n",
    "        long = points[1]\n",
    "        #print (train_data_draft.shape)\n",
    "        #print(long)\n",
    "    # Append latitude and longitude coordinates array\n",
    "        train_wnvpresents_Layer=folium.FeatureGroup(name=f'wnvpresents_{draft_year}_{draft_month}')\n",
    "        train_wnvpresents_Layer.add_to(map_)    \n",
    "        \n",
    "        for i, (la, lo) in enumerate(zip(lat,long)):\n",
    "            #print(la, lo)\n",
    "            #coordinates.append([la,lo])\n",
    "            #print (coordinates)\n",
    "            #print (train_data_draft)\n",
    "            #wnvpresents=int(train_data_draft[(train_data_draft['Trap'] == train_data_draft.Trap[i])]['WnvPresent'].sum())\n",
    "\n",
    "            #print(train_data_draft['Trap'])\n",
    "\n",
    "            #if wnvpresents:\n",
    "            if geo_df.PIPIENS[i] == True:\n",
    "                type_color = \"green\"\n",
    "            if (geo_df.RESTUANS[i] == True):\n",
    "                type_color = \"red\"\n",
    "\n",
    "\n",
    "            train_wnvpresents_Layer.add_child(\n",
    "                folium.Marker(\n",
    "                    location=[la,lo],\n",
    "                    popup=str(train_data_draft.index[i])+ \"<br>\"\n",
    "                    +'wnvpresents '+ str(train_data_draft.WnvPresent[train_data_draft.index[i]])+ \"<br>\"\n",
    "                    +'numMosquitos '+ str(train_data_draft.NumMosquitos[train_data_draft.index[i]]),\n",
    "                    icon=folium.Icon(color=\"%s\" % type_color)\n",
    "                    )\n",
    "            )\n",
    "\n",
    "folium.LayerControl(position='topright', collapsed=False, autoZIndex=False).add_to(map_)\n",
    "map_.save(f\"wnvpresents_.html\") \n",
    "\n"
   ]
  },
  {
   "cell_type": "code",
   "execution_count": 12,
   "metadata": {},
   "outputs": [],
   "source": [
    "draft_month=7\n",
    "draft_year=2007\n",
    "\n",
    "\n",
    "map_ = folium.Map(location=[train_data['Latitude'].mean(),  train_data['Longitude'].mean()],\n",
    "               tiles=\"Stamen Terrain\", zoom_start=10, control_scale=False)\n",
    "\n",
    "shapesLayer=folium.FeatureGroup(name='wnvpresents')\n",
    "shapesLayer.add_to(map_)\n",
    "\n",
    "# Iterate through list and add a marker for each volcano, color-coded by its type.\n",
    "i = 0\n",
    "for coordinates in geo_df_list:\n",
    "    if (geo_df.month[i] == draft_month) and  (geo_df.year[i] == draft_year):\n",
    "        wnvpresents=int(train_data[(geo_df['Trap'] == geo_df.Trap[i]) & (geo_df['month']==draft_month) \n",
    "                   & (geo_df['year']==draft_year)]['WnvPresent'].sum())\n",
    "        if wnvpresents>0:\n",
    "            if geo_df.PIPIENS[i] == True:\n",
    "                type_color = \"green\"\n",
    "            if (geo_df.RESTUANS[i] == True):\n",
    "                type_color = \"red\"\n",
    "                # Place the markers with the popup labels and data\n",
    "            shapesLayer.add_child(\n",
    "                folium.Marker(\n",
    "                    location=coordinates,\n",
    "                    popup=geo_df.Trap[i]+ \"<br>\"\n",
    "                    +'wnvpresents '+ str(wnvpresents)+ \"<br>\"+'numMosquitos '+ str(numMosquitos(draft_year, draft_month)),\n",
    "                    icon=folium.Icon(color=\"%s\" % type_color)\n",
    "                    )\n",
    "            )\n",
    "    i = i + 1\n",
    "folium.LayerControl(position='topright', collapsed=False, autoZIndex=False).add_to(map_)\n",
    "map_.save(f\"{draft_month}_{draft_year}_map.html\") "
   ]
  },
  {
   "cell_type": "code",
   "execution_count": 8,
   "metadata": {},
   "outputs": [
    {
     "data": {
      "text/plain": [
       "Address                   113\n",
       "Block                      57\n",
       "Street                    107\n",
       "Trap                      112\n",
       "AddressNumberAndStreet    113\n",
       "Latitude                  113\n",
       "Longitude                 113\n",
       "AddressAccuracy             4\n",
       "RESTUANS                    2\n",
       "PIPIENS                     2\n",
       "day                        28\n",
       "weekday                     5\n",
       "month                       6\n",
       "year                        3\n",
       "geometry                  113\n",
       "dtype: int64"
      ]
     },
     "execution_count": 8,
     "metadata": {},
     "output_type": "execute_result"
    }
   ],
   "source": [
    "train_data_adres = train_data.copy()\n",
    "train_data_adres.set_index('Address')\n",
    "train_data_adres.drop(columns=['Date'], axis=1, inplace = True)\n",
    "train_data_adres.drop(columns=['NumMosquitos'], axis=1, inplace = True)\n",
    "train_data_adres.drop(columns=['WnvPresent'], axis=1, inplace = True)\n",
    "train_data_adres.drop(columns=['Species'], axis=1, inplace = True)\n",
    "#train_data_adres.drop('NumMosquitos', axis=1)\n",
    "#train_data_adres.drop('AddressAccuracy', axis=1)\n",
    "#train_data_adres.head()\n",
    "#res = train_data_adres.apply(lambda x: x.unique().tolist(), axis=1)\n",
    "#train_data_adres.unique([''])\n",
    "#train_data_adres.groupby('Address')['Address'].unique()\n",
    "train_data_adres = train_data_adres[train_data_adres.duplicated()]\n",
    "train_data_adres.nunique ()\n",
    "#Dup_Rows.Trap.unique()"
   ]
  },
  {
   "cell_type": "code",
   "execution_count": 9,
   "metadata": {},
   "outputs": [],
   "source": [
    "spray_data['hour']= pd.to_datetime(spray_data.Time,format = '%I:%M:%S %p').dt.hour\n",
    "spray_data['minute']= pd.to_datetime(spray_data.Time,format = '%I:%M:%S %p').dt.minute\n",
    "\n",
    "spray_data['day']=pd.to_datetime(spray_data.Date).dt.day\n",
    "spray_data['weekday']=pd.to_datetime(spray_data.Date).dt.weekday\n",
    "spray_data['month']=pd.to_datetime(spray_data.Date).dt.month\n",
    "spray_data['year']=pd.to_datetime(spray_data.Date).dt.year\n",
    "#spray_data\n",
    "train_data['day']=pd.to_datetime(train_data.Date).dt.day\n",
    "train_data['weekday']=pd.to_datetime(train_data.Date).dt.weekday\n",
    "train_data['month']=pd.to_datetime(train_data.Date).dt.month\n",
    "train_data['year']=pd.to_datetime(train_data.Date).dt.year\n",
    "#train_data\n",
    "weather_data['day']=pd.to_datetime(weather_data.Date).dt.day\n",
    "#weather_data['weekday']=pd.to_datetime(weather_data.Date).dt.weekday\n",
    "weather_data['month']=pd.to_datetime(weather_data.Date).dt.month\n",
    "weather_data['year']=pd.to_datetime(weather_data.Date).dt.year\n",
    "#weather_data\n",
    "test_truncated_data['day']=pd.to_datetime(test_truncated_data.Date).dt.day\n",
    "test_truncated_data['weekday']=pd.to_datetime(test_truncated_data.Date).dt.weekday\n",
    "test_truncated_data['month']=pd.to_datetime(test_truncated_data.Date).dt.month\n",
    "test_truncated_data['year']=pd.to_datetime(test_truncated_data.Date).dt.year\n",
    "#test_truncated_data\n"
   ]
  },
  {
   "cell_type": "code",
   "execution_count": 183,
   "metadata": {},
   "outputs": [
    {
     "ename": "KeyError",
     "evalue": "'year'",
     "output_type": "error",
     "traceback": [
      "\u001b[1;31m---------------------------------------------------------------------------\u001b[0m",
      "\u001b[1;31mKeyError\u001b[0m                                  Traceback (most recent call last)",
      "Cell \u001b[1;32mIn [183], line 44\u001b[0m\n\u001b[0;32m     41\u001b[0m     plt\u001b[38;5;241m.\u001b[39mlegend()\n\u001b[0;32m     42\u001b[0m     plt\u001b[38;5;241m.\u001b[39mgrid(\u001b[38;5;28;01mTrue\u001b[39;00m)   \u001b[38;5;66;03m# лінії допоміжної сітки\u001b[39;00m\n\u001b[1;32m---> 44\u001b[0m \u001b[43mplot_datasetes\u001b[49m\u001b[43m(\u001b[49m\u001b[43m)\u001b[49m\n",
      "Cell \u001b[1;32mIn [183], line 4\u001b[0m, in \u001b[0;36mplot_datasetes\u001b[1;34m()\u001b[0m\n\u001b[0;32m      1\u001b[0m \u001b[38;5;28;01mdef\u001b[39;00m \u001b[38;5;21mplot_datasetes\u001b[39m():\n\u001b[0;32m      2\u001b[0m     fig \u001b[38;5;241m=\u001b[39m plt\u001b[38;5;241m.\u001b[39mfigure()\n\u001b[1;32m----> 4\u001b[0m     plot_mas \u001b[38;5;241m=\u001b[39m \u001b[43mtest_truncated_data\u001b[49m\u001b[38;5;241;43m.\u001b[39;49m\u001b[43mgroupby\u001b[49m\u001b[43m(\u001b[49m\u001b[43m[\u001b[49m\u001b[38;5;124;43m'\u001b[39;49m\u001b[38;5;124;43myear\u001b[39;49m\u001b[38;5;124;43m'\u001b[39;49m\u001b[43m]\u001b[49m\u001b[43m,\u001b[49m\u001b[43m \u001b[49m\u001b[43mgroup_keys\u001b[49m\u001b[38;5;241;43m=\u001b[39;49m\u001b[38;5;28;43;01mTrue\u001b[39;49;00m\u001b[43m,\u001b[49m\n\u001b[0;32m      5\u001b[0m \u001b[43m                                           \u001b[49m\u001b[43mdropna\u001b[49m\u001b[38;5;241;43m=\u001b[39;49m\u001b[38;5;28;43;01mTrue\u001b[39;49;00m\u001b[43m)\u001b[49m\u001b[38;5;241m.\u001b[39magg({\u001b[38;5;124m'\u001b[39m\u001b[38;5;124myear\u001b[39m\u001b[38;5;124m'\u001b[39m: [\u001b[38;5;124m'\u001b[39m\u001b[38;5;124mcount\u001b[39m\u001b[38;5;124m'\u001b[39m]})\u001b[38;5;241m.\u001b[39mto_dict()[(\u001b[38;5;124m'\u001b[39m\u001b[38;5;124myear\u001b[39m\u001b[38;5;124m'\u001b[39m, \u001b[38;5;124m'\u001b[39m\u001b[38;5;124mcount\u001b[39m\u001b[38;5;124m'\u001b[39m)] \n\u001b[0;32m      6\u001b[0m     plt\u001b[38;5;241m.\u001b[39mbar(plot_mas\u001b[38;5;241m.\u001b[39mkeys(), plot_mas\u001b[38;5;241m.\u001b[39mvalues(), color\u001b[38;5;241m=\u001b[39m\u001b[38;5;124m'\u001b[39m\u001b[38;5;124mblue\u001b[39m\u001b[38;5;124m'\u001b[39m, label\u001b[38;5;241m=\u001b[39m\u001b[38;5;124m'\u001b[39m\u001b[38;5;124mtest_truncated_data counts  in year\u001b[39m\u001b[38;5;124m'\u001b[39m)\n\u001b[0;32m      7\u001b[0m     plt\u001b[38;5;241m.\u001b[39mlegend()\n",
      "File \u001b[1;32m~\\AppData\\Local\\Programs\\Python\\Python310\\lib\\site-packages\\pandas\\core\\frame.py:8389\u001b[0m, in \u001b[0;36mDataFrame.groupby\u001b[1;34m(self, by, axis, level, as_index, sort, group_keys, squeeze, observed, dropna)\u001b[0m\n\u001b[0;32m   8386\u001b[0m     \u001b[38;5;28;01mraise\u001b[39;00m \u001b[38;5;167;01mTypeError\u001b[39;00m(\u001b[38;5;124m\"\u001b[39m\u001b[38;5;124mYou have to supply one of \u001b[39m\u001b[38;5;124m'\u001b[39m\u001b[38;5;124mby\u001b[39m\u001b[38;5;124m'\u001b[39m\u001b[38;5;124m and \u001b[39m\u001b[38;5;124m'\u001b[39m\u001b[38;5;124mlevel\u001b[39m\u001b[38;5;124m'\u001b[39m\u001b[38;5;124m\"\u001b[39m)\n\u001b[0;32m   8387\u001b[0m axis \u001b[38;5;241m=\u001b[39m \u001b[38;5;28mself\u001b[39m\u001b[38;5;241m.\u001b[39m_get_axis_number(axis)\n\u001b[1;32m-> 8389\u001b[0m \u001b[38;5;28;01mreturn\u001b[39;00m \u001b[43mDataFrameGroupBy\u001b[49m\u001b[43m(\u001b[49m\n\u001b[0;32m   8390\u001b[0m \u001b[43m    \u001b[49m\u001b[43mobj\u001b[49m\u001b[38;5;241;43m=\u001b[39;49m\u001b[38;5;28;43mself\u001b[39;49m\u001b[43m,\u001b[49m\n\u001b[0;32m   8391\u001b[0m \u001b[43m    \u001b[49m\u001b[43mkeys\u001b[49m\u001b[38;5;241;43m=\u001b[39;49m\u001b[43mby\u001b[49m\u001b[43m,\u001b[49m\n\u001b[0;32m   8392\u001b[0m \u001b[43m    \u001b[49m\u001b[43maxis\u001b[49m\u001b[38;5;241;43m=\u001b[39;49m\u001b[43maxis\u001b[49m\u001b[43m,\u001b[49m\n\u001b[0;32m   8393\u001b[0m \u001b[43m    \u001b[49m\u001b[43mlevel\u001b[49m\u001b[38;5;241;43m=\u001b[39;49m\u001b[43mlevel\u001b[49m\u001b[43m,\u001b[49m\n\u001b[0;32m   8394\u001b[0m \u001b[43m    \u001b[49m\u001b[43mas_index\u001b[49m\u001b[38;5;241;43m=\u001b[39;49m\u001b[43mas_index\u001b[49m\u001b[43m,\u001b[49m\n\u001b[0;32m   8395\u001b[0m \u001b[43m    \u001b[49m\u001b[43msort\u001b[49m\u001b[38;5;241;43m=\u001b[39;49m\u001b[43msort\u001b[49m\u001b[43m,\u001b[49m\n\u001b[0;32m   8396\u001b[0m \u001b[43m    \u001b[49m\u001b[43mgroup_keys\u001b[49m\u001b[38;5;241;43m=\u001b[39;49m\u001b[43mgroup_keys\u001b[49m\u001b[43m,\u001b[49m\n\u001b[0;32m   8397\u001b[0m \u001b[43m    \u001b[49m\u001b[43msqueeze\u001b[49m\u001b[38;5;241;43m=\u001b[39;49m\u001b[43msqueeze\u001b[49m\u001b[43m,\u001b[49m\n\u001b[0;32m   8398\u001b[0m \u001b[43m    \u001b[49m\u001b[43mobserved\u001b[49m\u001b[38;5;241;43m=\u001b[39;49m\u001b[43mobserved\u001b[49m\u001b[43m,\u001b[49m\n\u001b[0;32m   8399\u001b[0m \u001b[43m    \u001b[49m\u001b[43mdropna\u001b[49m\u001b[38;5;241;43m=\u001b[39;49m\u001b[43mdropna\u001b[49m\u001b[43m,\u001b[49m\n\u001b[0;32m   8400\u001b[0m \u001b[43m\u001b[49m\u001b[43m)\u001b[49m\n",
      "File \u001b[1;32m~\\AppData\\Local\\Programs\\Python\\Python310\\lib\\site-packages\\pandas\\core\\groupby\\groupby.py:959\u001b[0m, in \u001b[0;36mGroupBy.__init__\u001b[1;34m(self, obj, keys, axis, level, grouper, exclusions, selection, as_index, sort, group_keys, squeeze, observed, mutated, dropna)\u001b[0m\n\u001b[0;32m    956\u001b[0m \u001b[38;5;28;01mif\u001b[39;00m grouper \u001b[38;5;129;01mis\u001b[39;00m \u001b[38;5;28;01mNone\u001b[39;00m:\n\u001b[0;32m    957\u001b[0m     \u001b[38;5;28;01mfrom\u001b[39;00m \u001b[38;5;21;01mpandas\u001b[39;00m\u001b[38;5;21;01m.\u001b[39;00m\u001b[38;5;21;01mcore\u001b[39;00m\u001b[38;5;21;01m.\u001b[39;00m\u001b[38;5;21;01mgroupby\u001b[39;00m\u001b[38;5;21;01m.\u001b[39;00m\u001b[38;5;21;01mgrouper\u001b[39;00m \u001b[38;5;28;01mimport\u001b[39;00m get_grouper\n\u001b[1;32m--> 959\u001b[0m     grouper, exclusions, obj \u001b[38;5;241m=\u001b[39m \u001b[43mget_grouper\u001b[49m\u001b[43m(\u001b[49m\n\u001b[0;32m    960\u001b[0m \u001b[43m        \u001b[49m\u001b[43mobj\u001b[49m\u001b[43m,\u001b[49m\n\u001b[0;32m    961\u001b[0m \u001b[43m        \u001b[49m\u001b[43mkeys\u001b[49m\u001b[43m,\u001b[49m\n\u001b[0;32m    962\u001b[0m \u001b[43m        \u001b[49m\u001b[43maxis\u001b[49m\u001b[38;5;241;43m=\u001b[39;49m\u001b[43maxis\u001b[49m\u001b[43m,\u001b[49m\n\u001b[0;32m    963\u001b[0m \u001b[43m        \u001b[49m\u001b[43mlevel\u001b[49m\u001b[38;5;241;43m=\u001b[39;49m\u001b[43mlevel\u001b[49m\u001b[43m,\u001b[49m\n\u001b[0;32m    964\u001b[0m \u001b[43m        \u001b[49m\u001b[43msort\u001b[49m\u001b[38;5;241;43m=\u001b[39;49m\u001b[43msort\u001b[49m\u001b[43m,\u001b[49m\n\u001b[0;32m    965\u001b[0m \u001b[43m        \u001b[49m\u001b[43mobserved\u001b[49m\u001b[38;5;241;43m=\u001b[39;49m\u001b[43mobserved\u001b[49m\u001b[43m,\u001b[49m\n\u001b[0;32m    966\u001b[0m \u001b[43m        \u001b[49m\u001b[43mmutated\u001b[49m\u001b[38;5;241;43m=\u001b[39;49m\u001b[38;5;28;43mself\u001b[39;49m\u001b[38;5;241;43m.\u001b[39;49m\u001b[43mmutated\u001b[49m\u001b[43m,\u001b[49m\n\u001b[0;32m    967\u001b[0m \u001b[43m        \u001b[49m\u001b[43mdropna\u001b[49m\u001b[38;5;241;43m=\u001b[39;49m\u001b[38;5;28;43mself\u001b[39;49m\u001b[38;5;241;43m.\u001b[39;49m\u001b[43mdropna\u001b[49m\u001b[43m,\u001b[49m\n\u001b[0;32m    968\u001b[0m \u001b[43m    \u001b[49m\u001b[43m)\u001b[49m\n\u001b[0;32m    970\u001b[0m \u001b[38;5;28mself\u001b[39m\u001b[38;5;241m.\u001b[39mobj \u001b[38;5;241m=\u001b[39m obj\n\u001b[0;32m    971\u001b[0m \u001b[38;5;28mself\u001b[39m\u001b[38;5;241m.\u001b[39maxis \u001b[38;5;241m=\u001b[39m obj\u001b[38;5;241m.\u001b[39m_get_axis_number(axis)\n",
      "File \u001b[1;32m~\\AppData\\Local\\Programs\\Python\\Python310\\lib\\site-packages\\pandas\\core\\groupby\\grouper.py:888\u001b[0m, in \u001b[0;36mget_grouper\u001b[1;34m(obj, key, axis, level, sort, observed, mutated, validate, dropna)\u001b[0m\n\u001b[0;32m    886\u001b[0m         in_axis, level, gpr \u001b[38;5;241m=\u001b[39m \u001b[38;5;28;01mFalse\u001b[39;00m, gpr, \u001b[38;5;28;01mNone\u001b[39;00m\n\u001b[0;32m    887\u001b[0m     \u001b[38;5;28;01melse\u001b[39;00m:\n\u001b[1;32m--> 888\u001b[0m         \u001b[38;5;28;01mraise\u001b[39;00m \u001b[38;5;167;01mKeyError\u001b[39;00m(gpr)\n\u001b[0;32m    889\u001b[0m \u001b[38;5;28;01melif\u001b[39;00m \u001b[38;5;28misinstance\u001b[39m(gpr, Grouper) \u001b[38;5;129;01mand\u001b[39;00m gpr\u001b[38;5;241m.\u001b[39mkey \u001b[38;5;129;01mis\u001b[39;00m \u001b[38;5;129;01mnot\u001b[39;00m \u001b[38;5;28;01mNone\u001b[39;00m:\n\u001b[0;32m    890\u001b[0m     \u001b[38;5;66;03m# Add key to exclusions\u001b[39;00m\n\u001b[0;32m    891\u001b[0m     exclusions\u001b[38;5;241m.\u001b[39madd(gpr\u001b[38;5;241m.\u001b[39mkey)\n",
      "\u001b[1;31mKeyError\u001b[0m: 'year'"
     ]
    },
    {
     "data": {
      "text/plain": [
       "<Figure size 640x480 with 0 Axes>"
      ]
     },
     "metadata": {},
     "output_type": "display_data"
    }
   ],
   "source": [
    "def plot_datasetes():\n",
    "    fig = plt.figure()\n",
    "\n",
    "    plot_mas = test_truncated_data.groupby(['year'], group_keys=True,\n",
    "                                           dropna=True).agg({'year': ['count']}).to_dict()[('year', 'count')] \n",
    "    plt.bar(plot_mas.keys(), plot_mas.values(), color='blue', label='test_truncated_data counts  in year')\n",
    "    plt.legend()\n",
    "    plt.grid(True) \n",
    "\n",
    "\n",
    "\n",
    "    fig = plt.figure()\n",
    "    plot_mas = weather_data.groupby(['year'], group_keys=True,\n",
    "                                           dropna=True).agg({'year': ['count']}).to_dict()[('year', 'count')] \n",
    "    plt.bar(plot_mas.keys(), plot_mas.values(), color='pink', label='weather_data counts  in year')\n",
    "    plt.legend()\n",
    "    plt.grid(True)   # лінії допоміжної сітки\n",
    "\n",
    "\n",
    "    fig = plt.figure()\n",
    "    #fig2 = plt.figure()\n",
    "\n",
    "    plot_mas = train_data.groupby(['year'], group_keys=True,\n",
    "                                           dropna=True).agg({'year': ['count']}).to_dict()[('year', 'count')] \n",
    "    plt.bar(plot_mas.keys(), plot_mas.values(), color='green', label='train_data counts  in year')\n",
    "    plt.legend()\n",
    "    plt.grid(True)   # лінії допоміжної сітки\n",
    "\n",
    "\n",
    "    fig = plt.figure()\n",
    "    plot_mas = spray_data.groupby(['year'], group_keys=True,\n",
    "                                           dropna=True).agg({'year': ['count']}).to_dict()[('year', 'count')] \n",
    "    plt.bar(plot_mas.keys(), plot_mas.values(), color='red', label='spray_data counts  in year')\n",
    "    plt.legend()\n",
    "    plt.grid(True)   # лінії допоміжної сітки\n",
    "    \n",
    "    fig = plt.figure()\n",
    "    plot_mas = test_truncated_data.groupby(['year'], group_keys=True,\n",
    "                                           dropna=True).agg({'year': ['count']}).to_dict()[('year', 'count')] \n",
    "    plt.bar(plot_mas.keys(), plot_mas.values(), color='red', label='test_truncated_data counts  in year')\n",
    "    plt.legend()\n",
    "    plt.grid(True)   # лінії допоміжної сітки\n",
    "\n",
    "plot_datasetes()"
   ]
  },
  {
   "cell_type": "code",
   "execution_count": null,
   "metadata": {},
   "outputs": [],
   "source": [
    "def bar_chat(_data, grop_list_, agr_colum, agr_func):\n",
    "    grop_list=[grop_list_]\n",
    "    agg_func_math = {\n",
    "        agr_colum: [agr_func]\n",
    "    }\n",
    "\n",
    "    plot_mas = _data.groupby(grop_list, group_keys=True, dropna=True).agg(agg_func_math).to_dict()[(agr_colum, agr_func)] \n",
    "\n",
    "    fig = plt.figure()\n",
    "    plt.bar(plot_mas.keys(), plot_mas.values())\n",
    "    plt.title(f'{grop_list_} {agr_colum} {agr_func} chart')\n",
    "    \n",
    "    plt.grid(True)   # лінії допоміжної сітки"
   ]
  },
  {
   "cell_type": "code",
   "execution_count": null,
   "metadata": {},
   "outputs": [],
   "source": [
    "'''grop_list=['Date', 'Address']\n",
    "bar_chat(train_data, grop_list, 'WnvPresent', 'sum')'''"
   ]
  },
  {
   "cell_type": "code",
   "execution_count": null,
   "metadata": {},
   "outputs": [],
   "source": [
    "#train_data_groupby=train_data.groupby(['Address','Date'])\n",
    "agg_func_math = {'WnvPresent': ['sum']}\n",
    "\n",
    "train_data_group=train_data.groupby(['Address','Date']).agg(agg_func_math).copy()\n",
    "train_data_group"
   ]
  },
  {
   "cell_type": "markdown",
   "metadata": {},
   "source": [
    "fig = plt.figure()\n",
    "plot_mas = train_data_group.groupby(['month'], group_keys=True,\n",
    "                              dropna=True).agg({'WnvPresent': ['sum']}).to_dict()[('WnvPresent', 'sum')] \n",
    "plt.bar(plot_mas.keys(), plot_mas.values(), color='red', label='WnvPresent sum month')\n",
    "plt.legend()"
   ]
  },
  {
   "cell_type": "code",
   "execution_count": 1,
   "metadata": {},
   "outputs": [
    {
     "ename": "NameError",
     "evalue": "name 'plt' is not defined",
     "output_type": "error",
     "traceback": [
      "\u001b[1;31m---------------------------------------------------------------------------\u001b[0m",
      "\u001b[1;31mNameError\u001b[0m                                 Traceback (most recent call last)",
      "Cell \u001b[1;32mIn [1], line 1\u001b[0m\n\u001b[1;32m----> 1\u001b[0m fig \u001b[38;5;241m=\u001b[39m \u001b[43mplt\u001b[49m\u001b[38;5;241m.\u001b[39mfigure()\n\u001b[0;32m      2\u001b[0m plot_mas \u001b[38;5;241m=\u001b[39m train_data\u001b[38;5;241m.\u001b[39mgroupby([\u001b[38;5;124m'\u001b[39m\u001b[38;5;124mYear\u001b[39m\u001b[38;5;124m'\u001b[39m], group_keys\u001b[38;5;241m=\u001b[39m\u001b[38;5;28;01mTrue\u001b[39;00m,\n\u001b[0;32m      3\u001b[0m                               dropna\u001b[38;5;241m=\u001b[39m\u001b[38;5;28;01mTrue\u001b[39;00m)\u001b[38;5;241m.\u001b[39magg({\u001b[38;5;124m'\u001b[39m\u001b[38;5;124mNumMosquitos\u001b[39m\u001b[38;5;124m'\u001b[39m: [\u001b[38;5;124m'\u001b[39m\u001b[38;5;124msum\u001b[39m\u001b[38;5;124m'\u001b[39m]})\u001b[38;5;241m.\u001b[39mto_dict()[(\u001b[38;5;124m'\u001b[39m\u001b[38;5;124mNumMosquitos\u001b[39m\u001b[38;5;124m'\u001b[39m, \u001b[38;5;124m'\u001b[39m\u001b[38;5;124msum\u001b[39m\u001b[38;5;124m'\u001b[39m)] \n\u001b[0;32m      4\u001b[0m plt\u001b[38;5;241m.\u001b[39mbar(plot_mas\u001b[38;5;241m.\u001b[39mkeys(), plot_mas\u001b[38;5;241m.\u001b[39mvalues(), color\u001b[38;5;241m=\u001b[39m\u001b[38;5;124m'\u001b[39m\u001b[38;5;124mgreen\u001b[39m\u001b[38;5;124m'\u001b[39m, label\u001b[38;5;241m=\u001b[39m\u001b[38;5;124m'\u001b[39m\u001b[38;5;124mNumMosquitos\u001b[39m\u001b[38;5;124m'\u001b[39m)\n",
      "\u001b[1;31mNameError\u001b[0m: name 'plt' is not defined"
     ]
    }
   ],
   "source": [
    "fig = plt.figure()\n",
    "plot_mas = train_data.groupby(['Date'], group_keys=True,\n",
    "                              dropna=True).agg({'NumMosquitos': ['sum']}).to_dict()[('NumMosquitos', 'sum')] \n",
    "plt.bar(plot_mas.keys(), plot_mas.values(), color='green', label='NumMosquitos')\n",
    "plt.legend()\n",
    "\n",
    "plot_mas = train_data.groupby(['Date'], group_keys=True,\n",
    "                              dropna=True).agg({'WnvPresent': ['sum']}).to_dict()[('WnvPresent', 'sum')] \n",
    "plt.bar(plot_mas.keys(), plot_mas.values(), color='red', label='WnvPresent sum Date')\n",
    "plt.legend()\n",
    "\n",
    "plt.grid(False)   # лінії допоміжної сітки"
   ]
  },
  {
   "cell_type": "code",
   "execution_count": null,
   "metadata": {},
   "outputs": [],
   "source": [
    "fig = plt.figure()\n",
    "plot_mas = train_data.groupby(['month'], group_keys=True,\n",
    "                              dropna=True).agg({'WnvPresent': ['sum']}).to_dict()[('WnvPresent', 'sum')] \n",
    "plt.bar(plot_mas.keys(), plot_mas.values(), color='red', label='WnvPresent sum month')\n",
    "plt.legend()\n",
    "\n",
    "plt.grid(False)   # лінії допоміжної сітки\n",
    "#Date\n",
    "fig = plt.figure()\n",
    "plot_mas = train_data.groupby(['Date'], group_keys=True,\n",
    "                              dropna=True).agg({'WnvPresent': ['sum']}).to_dict()[('WnvPresent', 'sum')] \n",
    "plt.bar(plot_mas.keys(), plot_mas.values(), color='red', label='WnvPresent sum Date')\n",
    "plt.legend()\n",
    "\n",
    "plt.grid(False)   # лінії допоміжної сітки"
   ]
  },
  {
   "cell_type": "code",
   "execution_count": null,
   "metadata": {},
   "outputs": [],
   "source": [
    "train_data_adres.head()"
   ]
  },
  {
   "cell_type": "code",
   "execution_count": null,
   "metadata": {},
   "outputs": [],
   "source": [
    "# Define our key point when map open it\n",
    "map_ = folium.Map(location=[train_data_adres['Latitude'].mean(),  train_data_adres['Longitude'].mean()],\n",
    "               tiles=\"Stamen Terrain\", zoom_start=10, control_scale=False)\n",
    "\n",
    "for la,lo in train_data_adres:\n",
    "    folium.Marker(\n",
    "        location=[la,lo],\n",
    "        icon=folium.Icon(icon_color='white')\n",
    "    ).add_to(map2)\n",
    "# Plotting \n",
    "map2"
   ]
  },
  {
   "cell_type": "code",
   "execution_count": null,
   "metadata": {},
   "outputs": [],
   "source": [
    "map_ = folium.Map(location=[train_data_adres['Latitude'].mean(),  train_data_adres['Longitude'].mean()],\n",
    "               tiles=\"Stamen Terrain\", zoom_start=10, control_scale=False)\n",
    "\n",
    "folium.Marker(train_data_adres['Latitude','Longitude'], popup=train_data_adres['Trap']).add_to(map_)\n",
    "map_"
   ]
  },
  {
   "cell_type": "code",
   "execution_count": null,
   "metadata": {},
   "outputs": [],
   "source": [
    "#import folium\n",
    "#Station_1: CHICAGO O'HARE INTERNATIONAL AIRPORT Lat: 41.995 Lon: -87.933 Elev: 662 ft. above sea level\n",
    "#Station_2: CHICAGO MIDWAY INTL ARPT Lat: 41.786 Lon: -87.752 Elev: 612 ft. above sea level\n",
    "\n",
    "#m = folium.Map(location=[45.5236, -122.6750])\n",
    "#m = folium.Map(location=[42.391623, -88.089163], tiles=\"Stamen Terrain\", zoom_start=13)\n",
    "\n",
    "\n",
    "map_ = folium.Map(location=[spray_data['Latitude'].mean(),  spray_data['Longitude'].mean()],\n",
    "               tiles=\"Stamen Terrain\", zoom_start=10, control_scale=False)\n",
    "\n",
    "folium.Marker([41.995,  -87.933], popup=\"CHICAGO O'HARE INTERNATIONAL AIRPORT\").add_to(map_)\n",
    "folium.Marker([41.786,  -88.089163], popup=\"CHICAGO MIDWAY INTL ARPT\").add_to(map_)\n",
    "\n",
    "folium.CircleMarker(\n",
    "    location=[spray_data['Latitude'].mean(),  spray_data['Longitude'].mean()],\n",
    "    radius=10,\n",
    "    popup=\"spray_mean\",\n",
    "    color=\"#3186cc\",\n",
    "    fill=True,\n",
    "    fill_color=\"#3186cc\",\n",
    ").add_to(map_)\n",
    "\n",
    "\n",
    "#train_data_adres\n",
    "#for index, location_info in train_data.iterrows():\n",
    "#    folium.Marker([location_info[\"Latitude\"], location_info[\"Longitude\"]], popup=location_info[\"NumMosquitos\"]).add_to(map_)\n",
    "\n",
    "map_\n"
   ]
  },
  {
   "cell_type": "code",
   "execution_count": null,
   "metadata": {},
   "outputs": [],
   "source": []
  },
  {
   "cell_type": "code",
   "execution_count": null,
   "metadata": {},
   "outputs": [],
   "source": []
  }
 ],
 "metadata": {
  "celltoolbar": "Slideshow",
  "kernelspec": {
   "display_name": "Python 3 (ipykernel)",
   "language": "python",
   "name": "python3"
  },
  "language_info": {
   "codemirror_mode": {
    "name": "ipython",
    "version": 3
   },
   "file_extension": ".py",
   "mimetype": "text/x-python",
   "name": "python",
   "nbconvert_exporter": "python",
   "pygments_lexer": "ipython3",
   "version": "3.10.6"
  },
  "toc": {
   "base_numbering": 1,
   "nav_menu": {},
   "number_sections": true,
   "sideBar": true,
   "skip_h1_title": false,
   "title_cell": "Table of Contents",
   "title_sidebar": "Contents",
   "toc_cell": false,
   "toc_position": {
    "height": "calc(100% - 180px)",
    "left": "10px",
    "top": "150px",
    "width": "358.391px"
   },
   "toc_section_display": true,
   "toc_window_display": true
  },
  "varInspector": {
   "cols": {
    "lenName": 16,
    "lenType": 16,
    "lenVar": 40
   },
   "kernels_config": {
    "python": {
     "delete_cmd_postfix": "",
     "delete_cmd_prefix": "del ",
     "library": "var_list.py",
     "varRefreshCmd": "print(var_dic_list())"
    },
    "r": {
     "delete_cmd_postfix": ") ",
     "delete_cmd_prefix": "rm(",
     "library": "var_list.r",
     "varRefreshCmd": "cat(var_dic_list()) "
    }
   },
   "types_to_exclude": [
    "module",
    "function",
    "builtin_function_or_method",
    "instance",
    "_Feature"
   ],
   "window_display": false
  }
 },
 "nbformat": 4,
 "nbformat_minor": 4
}
