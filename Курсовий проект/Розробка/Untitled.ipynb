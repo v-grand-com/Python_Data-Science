{
 "cells": [
  {
   "cell_type": "code",
   "execution_count": 1,
   "id": "9099c72b",
   "metadata": {},
   "outputs": [
    {
     "ename": "NameError",
     "evalue": "name 'zipcodes_agg' is not defined",
     "output_type": "error",
     "traceback": [
      "\u001b[1;31m---------------------------------------------------------------------------\u001b[0m",
      "\u001b[1;31mNameError\u001b[0m                                 Traceback (most recent call last)",
      "Cell \u001b[1;32mIn [1], line 5\u001b[0m\n\u001b[0;32m      2\u001b[0m \u001b[38;5;28;01mfrom\u001b[39;00m \u001b[38;5;21;01mfolium\u001b[39;00m\u001b[38;5;21;01m.\u001b[39;00m\u001b[38;5;21;01mplugins\u001b[39;00m \u001b[38;5;28;01mimport\u001b[39;00m MarkerCluster \u001b[38;5;66;03m# for clustering the markers\u001b[39;00m\n\u001b[0;32m      3\u001b[0m \u001b[38;5;28mmap\u001b[39m \u001b[38;5;241m=\u001b[39m folium\u001b[38;5;241m.\u001b[39mMap(location\u001b[38;5;241m=\u001b[39m[\u001b[38;5;241m40.693943\u001b[39m, \u001b[38;5;241m-\u001b[39m\u001b[38;5;241m73.985880\u001b[39m], default_zoom_start\u001b[38;5;241m=\u001b[39m\u001b[38;5;241m12\u001b[39m)\n\u001b[0;32m      4\u001b[0m \u001b[38;5;28mmap\u001b[39m\u001b[38;5;241m.\u001b[39mchoropleth(geo_data\u001b[38;5;241m=\u001b[39m\u001b[38;5;124m\"\u001b[39m\u001b[38;5;124m../input/nyc-zipcode-geodata/nyc-zip-code-tabulation-areas-polygons.geojson\u001b[39m\u001b[38;5;124m\"\u001b[39m, \u001b[38;5;66;03m# I found this NYC zipcode boundaries by googling \u001b[39;00m\n\u001b[1;32m----> 5\u001b[0m              data\u001b[38;5;241m=\u001b[39m\u001b[43mzipcodes_agg\u001b[49m, \u001b[38;5;66;03m# my dataset\u001b[39;00m\n\u001b[0;32m      6\u001b[0m              columns\u001b[38;5;241m=\u001b[39m[\u001b[38;5;124m'\u001b[39m\u001b[38;5;124mZIP\u001b[39m\u001b[38;5;124m'\u001b[39m, \u001b[38;5;124m'\u001b[39m\u001b[38;5;124mSALE PRICE\u001b[39m\u001b[38;5;124m'\u001b[39m], \u001b[38;5;66;03m# zip code is here for matching the geojson zipcode, sales price is the column that changes the color of zipcode areas\u001b[39;00m\n\u001b[0;32m      7\u001b[0m              key_on\u001b[38;5;241m=\u001b[39m\u001b[38;5;124m'\u001b[39m\u001b[38;5;124mfeature.properties.postalCode\u001b[39m\u001b[38;5;124m'\u001b[39m, \u001b[38;5;66;03m# this path contains zipcodes in str type, this zipcodes should match with our ZIP CODE column\u001b[39;00m\n\u001b[0;32m      8\u001b[0m              fill_color\u001b[38;5;241m=\u001b[39m\u001b[38;5;124m'\u001b[39m\u001b[38;5;124mBuPu\u001b[39m\u001b[38;5;124m'\u001b[39m, fill_opacity\u001b[38;5;241m=\u001b[39m\u001b[38;5;241m0.7\u001b[39m, line_opacity\u001b[38;5;241m=\u001b[39m\u001b[38;5;241m0.3\u001b[39m,\n\u001b[0;32m      9\u001b[0m              legend_name\u001b[38;5;241m=\u001b[39m\u001b[38;5;124m'\u001b[39m\u001b[38;5;124mSALE PRICE\u001b[39m\u001b[38;5;124m'\u001b[39m)\n\u001b[0;32m     11\u001b[0m \u001b[38;5;66;03m# add a marker for every record in the filtered data, use a clustered view\u001b[39;00m\n\u001b[0;32m     12\u001b[0m marker_cluster \u001b[38;5;241m=\u001b[39m MarkerCluster()\u001b[38;5;241m.\u001b[39madd_to(\u001b[38;5;28mmap\u001b[39m) \u001b[38;5;66;03m# create marker clusters\u001b[39;00m\n",
      "\u001b[1;31mNameError\u001b[0m: name 'zipcodes_agg' is not defined"
     ]
    }
   ],
   "source": [
    "import folium\n",
    "from folium.plugins import MarkerCluster # for clustering the markers\n",
    "map = folium.Map(location=[40.693943, -73.985880], default_zoom_start=12)\n",
    "map.choropleth(geo_data=\"../input/nyc-zipcode-geodata/nyc-zip-code-tabulation-areas-polygons.geojson\", # I found this NYC zipcode boundaries by googling \n",
    "             data=zipcodes_agg, # my dataset\n",
    "             columns=['ZIP', 'SALE PRICE'], # zip code is here for matching the geojson zipcode, sales price is the column that changes the color of zipcode areas\n",
    "             key_on='feature.properties.postalCode', # this path contains zipcodes in str type, this zipcodes should match with our ZIP CODE column\n",
    "             fill_color='BuPu', fill_opacity=0.7, line_opacity=0.3,\n",
    "             legend_name='SALE PRICE')\n",
    "\n",
    "# add a marker for every record in the filtered data, use a clustered view\n",
    "marker_cluster = MarkerCluster().add_to(map) # create marker clusters\n",
    "\n",
    "for i in range(zipcodes_agg.shape[0]):\n",
    "    location = [zipcodes_agg['LAT'][i],zipcodes_agg['LNG'][i]]\n",
    "    tooltip = \"Zipcode:{}<br> Borough: {}<br> Click for more\".format(zipcodes_agg[\"ZIP\"][i], zipcodes_agg['BOROUGH'][i])\n",
    "    \n",
    "    folium.Marker(location, # adding more details to the popup screen using HTML\n",
    "                  popup=\"\"\"\n",
    "                  <i>Mean sales price: </i> <br> <b>${}</b> <br> \n",
    "                  <i>mean total units: </i><b><br>{}</b><br>\n",
    "                  <i>mean square feet: </i><b><br>{}</b><br>\"\"\".format(\n",
    "                    round(zipcodes_agg['SALE PRICE'][i],2), \n",
    "                    round(zipcodes_agg['TOTAL UNITS'][i],2), \n",
    "                    round(zipcodes_agg['GROSS SQUARE FEET'][i],2)), \n",
    "                  tooltip=tooltip).add_to(marker_cluster)"
   ]
  },
  {
   "cell_type": "code",
   "execution_count": null,
   "id": "84288e2f",
   "metadata": {},
   "outputs": [],
   "source": []
  }
 ],
 "metadata": {
  "kernelspec": {
   "display_name": "Python 3 (ipykernel)",
   "language": "python",
   "name": "python3"
  },
  "language_info": {
   "codemirror_mode": {
    "name": "ipython",
    "version": 3
   },
   "file_extension": ".py",
   "mimetype": "text/x-python",
   "name": "python",
   "nbconvert_exporter": "python",
   "pygments_lexer": "ipython3",
   "version": "3.10.6"
  }
 },
 "nbformat": 4,
 "nbformat_minor": 5
}
