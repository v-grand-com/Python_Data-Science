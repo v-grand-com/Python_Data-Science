{
 "cells": [
  {
   "cell_type": "markdown",
   "id": "9f3d0cba",
   "metadata": {},
   "source": [
    "# Вправи"
   ]
  },
  {
   "cell_type": "markdown",
   "id": "9c6dc3db",
   "metadata": {},
   "source": [
    "1. Знайти значення m і b для яких функція набуває мінімального значення:\n",
    "\n",
    "$$f = \\frac{1}{n}\\sum_{i=1}^{n}{(y_{i} - (b + mx_{i}))^{2}}$$\n",
    "\n",
    "&emsp;&emsp;де x,y - деякі задані вектори"
   ]
  },
  {
   "cell_type": "code",
   "execution_count": 51,
   "id": "60dd2a12",
   "metadata": {},
   "outputs": [
    {
     "name": "stdout",
     "output_type": "stream",
     "text": [
      "[-2.37638733e+11 -2.37638733e+11] 1.165822280007574e+24\n",
      "[-1.16582228e+32 -1.16582228e+32] 2.8058380144289315e+65\n",
      "[-2.80583801e+73 -2.80583801e+73] 1.625260883524074e+148\n",
      "[-1.62526088e+156 -1.62526088e+156] inf\n",
      "[-inf -inf] nan\n",
      "[nan nan] nan\n",
      "[nan nan] nan\n",
      "[nan nan] nan\n",
      "[nan nan] nan\n"
     ]
    },
    {
     "name": "stderr",
     "output_type": "stream",
     "text": [
      "C:\\Users\\v.velichko\\AppData\\Local\\Temp\\ipykernel_3616\\1119051574.py:8: RuntimeWarning: overflow encountered in square\n",
      "  return (1/len(x))*sum((y-(b+m*x))**2)\n",
      "C:\\Users\\v.velichko\\AppData\\Local\\Temp\\ipykernel_3616\\1119051574.py:8: RuntimeWarning: invalid value encountered in add\n",
      "  return (1/len(x))*sum((y-(b+m*x))**2)\n"
     ]
    }
   ],
   "source": [
    "import numpy as np\n",
    "\n",
    "#print(x,y)\n",
    "def f(m,b):\n",
    "    np.random.seed(42)\n",
    "    x = np.random.normal(0, 5, 100)\n",
    "    y = 50 + 2 * x + np.random.normal(0, 2, len(x))\n",
    "    return (1/len(x))*sum((y-(b+m*x))**2)\n",
    "    \n",
    "def df(m,b):\n",
    "    h=1e-10\n",
    "    f_m=(f(m+h,b))/h\n",
    "    f_b=(f(m,b+h))/h\n",
    "    return np.array([f_m,f_b])\n",
    "#df(1,1)\n",
    "w0=np.ones(2)\n",
    "alpha=0.01\n",
    "epsilon=0.00001\n",
    "n=0\n",
    "#print(m0,f(m0[0],m0[1]))\n",
    "while True:\n",
    "    w=w0-alpha*df(w0[0],w0[1])\n",
    "     \n",
    "    if np.sum(np.abs(w-w0))<=epsilon:\n",
    "        #print(np.sum(np.abs(w-w0)))\n",
    "        break\n",
    "    else:\n",
    "        w0=w\n",
    "    n+=1\n",
    "    if n>=10:\n",
    "        break\n",
    "    print(w0,f(w[0],w[1]))"
   ]
  },
  {
   "cell_type": "markdown",
   "id": "e0cf40e3",
   "metadata": {},
   "source": [
    "2. Знайти значення m і b для яких функція набуває мінімального значення:\n",
    "\n",
    "$$f = \\frac{1}{n}\\sum_{i=1}^{n}{[(y_{i} - (b + mx_{i}))^{2}]} + m^2 + b^2$$\n",
    "\n",
    "&emsp;&emsp;де x,y - вектори з 1-го завдання"
   ]
  },
  {
   "cell_type": "code",
   "execution_count": 59,
   "id": "25f383b2",
   "metadata": {},
   "outputs": [
    {
     "name": "stdout",
     "output_type": "stream",
     "text": [
      "[-2.37838733e+11 -2.37838733e+11] 1.2809199757972996e+24\n",
      "[-1.28091998e+32 -1.28091998e+32] 3.7153593819310413e+65\n",
      "[-3.71535938e+73 -3.71535938e+73] 3.125780587417399e+148\n",
      "[-3.12578059e+156 -3.12578059e+156] inf\n",
      "[-inf -inf] nan\n",
      "[nan nan] nan\n",
      "[nan nan] nan\n",
      "[nan nan] nan\n",
      "[nan nan] nan\n"
     ]
    },
    {
     "name": "stderr",
     "output_type": "stream",
     "text": [
      "C:\\Users\\v.velichko\\AppData\\Local\\Temp\\ipykernel_3616\\3714896119.py:5: RuntimeWarning: overflow encountered in square\n",
      "  return (1/len(x))*sum(((y-(b+m*x))**2)+m**2+b**2)\n",
      "C:\\Users\\v.velichko\\AppData\\Local\\Temp\\ipykernel_3616\\3714896119.py:5: RuntimeWarning: overflow encountered in double_scalars\n",
      "  return (1/len(x))*sum(((y-(b+m*x))**2)+m**2+b**2)\n",
      "C:\\Users\\v.velichko\\AppData\\Local\\Temp\\ipykernel_3616\\3714896119.py:5: RuntimeWarning: invalid value encountered in add\n",
      "  return (1/len(x))*sum(((y-(b+m*x))**2)+m**2+b**2)\n"
     ]
    }
   ],
   "source": [
    "def f(m,b):\n",
    "    np.random.seed(42)\n",
    "    x = np.random.normal(0, 5, 100)\n",
    "    y = 50 + 2 * x + np.random.normal(0, 2, len(x))\n",
    "    return (1/len(x))*sum(((y-(b+m*x))**2)+m**2+b**2)\n",
    "    \n",
    "def df(m,b):\n",
    "    h=1e-10\n",
    "    f_m=(f(m+h,b))/h\n",
    "    f_b=(f(m,b+h))/h\n",
    "    return np.array([f_m,f_b])\n",
    "#df(1,1)\n",
    "w0=np.ones(2)\n",
    "alpha=0.01\n",
    "epsilon=0.00001\n",
    "n=0\n",
    "#print(m0,f(m0[0],m0[1]))\n",
    "while True:\n",
    "    w=w0-alpha*df(w0[0],w0[1])\n",
    "     \n",
    "    if np.sum(np.abs(w-w0))<=epsilon:\n",
    "        #print(np.sum(np.abs(w-w0)))\n",
    "        break\n",
    "    else:\n",
    "        w0=w\n",
    "    n+=1\n",
    "    if n>=10:\n",
    "        break\n",
    "    print(w0,f(w[0],w[1]))"
   ]
  },
  {
   "cell_type": "markdown",
   "id": "06197000",
   "metadata": {},
   "source": [
    "3. Знайти значення а, для якого функція набуває мінімального значення\n",
    "\n",
    "$$f = -\\frac{1}{n}\\sum_{i=1}^{n}{[y_{i}log(h(x_{i})) + (1 - y_{i})log(1 - h(x_{i}))]}$$\n",
    "\n",
    "$$h = \\frac{1} {1 + exp^{-ax}}$$"
   ]
  },
  {
   "cell_type": "code",
   "execution_count": 74,
   "id": "7589ccf9",
   "metadata": {},
   "outputs": [
    {
     "name": "stdout",
     "output_type": "stream",
     "text": [
      "[-24732.34228044] nan\n",
      "[nan] nan\n",
      "[nan] nan\n",
      "[nan] nan\n",
      "[nan] nan\n",
      "[nan] nan\n",
      "[nan] nan\n",
      "[nan] nan\n",
      "[nan] nan\n"
     ]
    },
    {
     "name": "stderr",
     "output_type": "stream",
     "text": [
      "C:\\Users\\v.velichko\\AppData\\Local\\Temp\\ipykernel_3616\\4083097039.py:4: RuntimeWarning: overflow encountered in exp\n",
      "  return 1/(1+np.exp(-a*x))\n",
      "C:\\Users\\v.velichko\\AppData\\Local\\Temp\\ipykernel_3616\\4083097039.py:14: RuntimeWarning: divide by zero encountered in log\n",
      "  return(-1/len(x)*sum(y*np.log(f_h(a, x))+(1+y)*np.log(f_h(a, x))))\n",
      "C:\\Users\\v.velichko\\AppData\\Local\\Temp\\ipykernel_3616\\4083097039.py:14: RuntimeWarning: invalid value encountered in multiply\n",
      "  return(-1/len(x)*sum(y*np.log(f_h(a, x))+(1+y)*np.log(f_h(a, x))))\n"
     ]
    }
   ],
   "source": [
    "np.random.seed(10)\n",
    " \n",
    "def f_h(a, x):\n",
    "    return 1/(1+np.exp(-a*x))\n",
    "\n",
    "def f(a):\n",
    "    num_observations = 100\n",
    "    x1 = np.random.normal(1, 1, 50)\n",
    "    x2 = np.random.normal(3, 1, 50)\n",
    "\n",
    "    x = np.concatenate([x1, x2])\n",
    "    y = np.concatenate([np.zeros_like(x1), np.ones_like(x2)])\n",
    "    \n",
    "    return(-1/len(x)*sum(y*np.log(f_h(a, x))+(1+y)*np.log(f_h(a, x))))\n",
    "\n",
    "def df(a):\n",
    "    h=1e-10\n",
    "    return f(a+h)/h\n",
    "    \n",
    "    \n",
    "w0=np.ones(1)\n",
    "alpha=0.000001\n",
    "epsilon=0.0000001\n",
    "n=0\n",
    " \n",
    "while True:\n",
    "    w=w0-alpha*df(w0)\n",
    "     \n",
    "    if np.sum(np.abs(w-w0))<=epsilon:\n",
    "        print(np.sum(np.abs(w-w0)))\n",
    "        break\n",
    "    else:\n",
    "        w0=w\n",
    "    n+=1\n",
    "    if n>=10:\n",
    "        break\n",
    "    print(w0,f(w[0]))"
   ]
  },
  {
   "cell_type": "code",
   "execution_count": null,
   "id": "a99c0ee2",
   "metadata": {},
   "outputs": [],
   "source": []
  },
  {
   "cell_type": "code",
   "execution_count": null,
   "id": "2d2847d3",
   "metadata": {},
   "outputs": [],
   "source": []
  }
 ],
 "metadata": {
  "kernelspec": {
   "display_name": "Python 3 (ipykernel)",
   "language": "python",
   "name": "python3"
  },
  "language_info": {
   "codemirror_mode": {
    "name": "ipython",
    "version": 3
   },
   "file_extension": ".py",
   "mimetype": "text/x-python",
   "name": "python",
   "nbconvert_exporter": "python",
   "pygments_lexer": "ipython3",
   "version": "3.10.6"
  }
 },
 "nbformat": 4,
 "nbformat_minor": 5
}
