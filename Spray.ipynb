{
 "cells": [
  {
   "cell_type": "markdown",
   "metadata": {
    "slideshow": {
     "slide_type": "slide"
    }
   },
   "source": [
    "###### Project"
   ]
  },
  {
   "cell_type": "code",
   "execution_count": 233,
   "metadata": {},
   "outputs": [
    {
     "data": {
      "text/plain": [
       "'DataSets={1:spray_data,\\n         2:train_data,\\n         3:weather_data,\\n         4:test_truncated_data}\\n'"
      ]
     },
     "execution_count": 233,
     "metadata": {},
     "output_type": "execute_result"
    }
   ],
   "source": [
    "import pandas as pd\n",
    "#import sqlite3\n",
    "import numpy as np\n",
    "import matplotlib as mpl\n",
    "import matplotlib.pyplot as plt\n",
    "import math\n",
    "import datetime as dt\n",
    "import folium\n",
    "from folium import plugins\n",
    "import geopandas\n",
    "from shapely.geometry.polygon import LinearRing, Polygon\n",
    "\n",
    "spray_data = pd.read_csv(\n",
    "    'Files/spray.csv',  # шлях до файлу, який містить дані\n",
    "    sep=',',  # роздільник стовпців\n",
    "    header=0  # номер рядка, що містить заголовок (якщо заголовка немає, можна передати None)\n",
    ")\n",
    "\n",
    "train_data = pd.read_csv(\n",
    "    'Files/train.csv',  # шлях до файлу, який містить дані\n",
    "    sep=',',  # роздільник стовпців\n",
    "    \n",
    "    header=0  # номер рядка, що містить заголовок (якщо заголовка немає, можна передати None)\n",
    ")\n",
    "\n",
    "weather_data = pd.read_csv(\n",
    "    'Files/weather.csv',  # шлях до файлу, який містить дані\n",
    "    sep=',',  # роздільник стовпців\n",
    "    header=0  # номер рядка, що містить заголовок (якщо заголовка немає, можна передати None)\n",
    ")\n",
    "\n",
    "test_truncated_data = pd.read_excel(\n",
    "    'Files/test_truncated.xlsx',\n",
    "    sheet_name='test_truncated',  # прочитати всі листи\n",
    "    usecols=\"A:J\"\n",
    "    #nrows=5\n",
    ")\n",
    "\n",
    "'''DataSets={1:spray_data,\n",
    "         2:train_data,\n",
    "         3:weather_data,\n",
    "         4:test_truncated_data}\n",
    "'''\n",
    "\n",
    "#test_truncated_data.head()\n",
    "#dates=spray_data [['Date'],['Time']]\n",
    "#train_data.groupby(train_data[\"Address\"])\n",
    "#dir(spray_data)\n",
    "#spray_data.amin(axes='Latitude')\n",
    "#test_truncated_data.info()\n",
    "#train_data\n",
    "#weather_data"
   ]
  },
  {
   "cell_type": "code",
   "execution_count": 234,
   "metadata": {},
   "outputs": [],
   "source": [
    "#spray_data_polygon=spray_data.copy()\n",
    "\n",
    "#spray_data['hour']=pd.to_datetime(spray_data.Time).dt.day\n",
    "#spray_data['minute']=pd.to_datetime(spray_data.Time).dt.weekday\n",
    "#spray_data['day']=pd.to_datetime(spray_data.Date).dt.day\n",
    "#spray_data['weekday']=pd.to_datetime(spray_data.Date).dt.weekday\n",
    "spray_data['month']=pd.to_datetime(spray_data.Date).dt.month\n",
    "spray_data['year']=pd.to_datetime(spray_data.Date).dt.year\n",
    "\n",
    "#spray_data_polygon=spray_data_polygon.drop('Date', axis=1)\n",
    "#spray_data_polygon=spray_data_polygon.drop('Time', axis=1)\n",
    "\n",
    "train_data['month']=pd.to_datetime(train_data.Date).dt.month\n",
    "train_data['year']=pd.to_datetime(train_data.Date).dt.year\n",
    "train_data['RESTUANS']=train_data['Species'].str.contains('RESTUANS')\n",
    "train_data['PIPIENS']=train_data['Species'].str.contains('PIPIENS')\n",
    "#train_data[train_data['WnvPresent']>0]"
   ]
  },
  {
   "cell_type": "code",
   "execution_count": 235,
   "metadata": {},
   "outputs": [],
   "source": [
    "def Prepear_coordinat(df):\n",
    "    df_copy=df.copy()\n",
    "    list_drop_column={'Latitude', 'Longitude'}\n",
    "\n",
    "    for colomn in df_copy.columns:\n",
    "        if colomn in list_drop_column:\n",
    "            pass\n",
    "        else:\n",
    "            df_copy=df_copy.drop(colomn, axis=1)\n",
    "                \n",
    "    my_array = np.asarray (df_copy)\n",
    "    \n",
    "    return my_array"
   ]
  },
  {
   "cell_type": "code",
   "execution_count": 236,
   "metadata": {},
   "outputs": [],
   "source": [
    "'''def Prepear_coordinat(df):\n",
    "    df_copy=df.copy()\n",
    "    list_drop_column={'Date', 'Time', 'month', 'year', \n",
    "                 'Address', 'Species', 'Block', 'Species', 'Block',\n",
    "                'Street', 'Street', 'Trap', 'AddressNumberAndStreet',\n",
    "                 'NumMosquitos', 'WnvPresent', 'AddressAccuracy', 'WnvPresent'}\n",
    "\n",
    "    for colomn in df_copy.columns:\n",
    "        if colomn in list_drop_column:\n",
    "                df_copy=df_copy.drop(colomn, axis=1)\n",
    "                \n",
    "    my_array = np.asarray (df_copy)\n",
    "    \n",
    "    return my_array'''\n",
    "\n",
    "def Add_shapesLayer_Polygon(df):\n",
    "    if Prepear_coordinat(df).shape[0]>0:        \n",
    "        return folium.Polygon(Prepear_coordinat(df),\n",
    "                              color='red',\n",
    "                              weight=4,\n",
    "                              fill=True,\n",
    "                              fill_color='green',\n",
    "                              fill_opacity=0.6)\n",
    "\n",
    "def numMosquitos(draft_year, draft_month):\n",
    "    numMosquitos=train_data[(geo_df['Trap'] == geo_df.Trap[i]) & (geo_df['month']==draft_month) \n",
    "                   & (geo_df['year']==draft_year)]['WnvPresent'].sum()\n",
    "    return str(numMosquitos)    "
   ]
  },
  {
   "cell_type": "code",
   "execution_count": 237,
   "metadata": {},
   "outputs": [],
   "source": [
    "#Spray data add to map\n",
    "draft_year_list={2011, 2013}\n",
    "draft_month_list={6, 7, 8, 9}\n",
    "\n",
    "draft_year=2003\n",
    "\n",
    "#spray_data_year=spray_data[spray_data['year']==2011]\n",
    "\n",
    "map_ = folium.Map(location=[train_data['Latitude'].mean(),  train_data['Longitude'].mean()],\n",
    "               tiles=\"Stamen Terrain\", zoom_start=10, control_scale=False)\n",
    "\n",
    "for draft_year in draft_year_list:\n",
    "    spray_data_year=spray_data[spray_data['year']==draft_year].copy()\n",
    "    draft_month=1\n",
    "    if spray_data_year.shape[0]>0:\n",
    "        for draft_month in draft_month_list:\n",
    "            spray_data_month=spray_data_year[spray_data_year['month']==draft_month].copy()\n",
    "            if spray_data_month.shape[0]>0:\n",
    "                shapesLayer=folium.FeatureGroup(name=f'spray_{draft_year}_{draft_month}')\n",
    "                shapesLayer.add_to(map_)\n",
    "                Add_shapesLayer_Polygon(spray_data_month).add_to(shapesLayer)\n",
    "\n",
    "            draft_month=draft_month+1\n",
    "    \n",
    "    draft_year=draft_year+1\n",
    "#folium.LayerControl().add_to(map_)\n",
    "#map_.save(f\"spray_map.html\")"
   ]
  },
  {
   "cell_type": "code",
   "execution_count": 238,
   "metadata": {},
   "outputs": [],
   "source": [
    "# train_data_point_map\n",
    "draft_year_list={2007, 2009, 2013}\n",
    "draft_month_list={6, 7, 8, 9}\n",
    "\n",
    "geometry = geopandas.points_from_xy(train_data.Longitude, train_data.Latitude)\n",
    "geo_df = geopandas.GeoDataFrame(\n",
    "    train_data, geometry=geometry\n",
    ")\n",
    "geo_df_list = [[point.xy[1][0], point.xy[0][0]] for point in geo_df.geometry]\n",
    "\n",
    "wnvpresentsLayer=folium.FeatureGroup(name='wnvpresents')\n",
    "wnvpresentsLayer.add_to(map_)\n",
    "\n",
    "# Iterate through list and add a marker for each volcano, color-coded by its type.\n",
    "i = 0\n",
    "for coordinates in geo_df_list:\n",
    "    if (geo_df.month[i] == draft_month) and  (geo_df.year[i] == draft_year):\n",
    "        wnvpresents=int(train_data[(geo_df['Trap'] == geo_df.Trap[i]) & (geo_df['month']==draft_month) \n",
    "                   & (geo_df['year']==draft_year)]['WnvPresent'].sum())\n",
    "        if wnvpresents>0:\n",
    "            if geo_df.PIPIENS[i] == True:\n",
    "                type_color = \"green\"\n",
    "            if (geo_df.RESTUANS[i] == True):\n",
    "                type_color = \"red\"\n",
    "                # Place the markers with the popup labels and data\n",
    "            wnvpresentsLayer.add_child(\n",
    "                folium.Marker(\n",
    "                    location=coordinates,\n",
    "                    popup=geo_df.Trap[i]+ \"<br>\"\n",
    "                    +'wnvpresents '+ str(wnvpresents)+ \"<br>\"+'numMosquitos '+ str(numMosquitos(draft_year, draft_month)),\n",
    "                    icon=folium.Icon(color=\"%s\" % type_color)\n",
    "                    )\n",
    "            )\n",
    "    i = i + 1"
   ]
  },
  {
   "cell_type": "code",
   "execution_count": 239,
   "metadata": {},
   "outputs": [],
   "source": [
    "# train_data_heat_map\n",
    "draft_year_list={2007, 2009, 2013}\n",
    "draft_month_list={6, 7, 8, 9}\n",
    "for draft_year in draft_year_list:\n",
    "    data_year=train_data[train_data['year']==draft_year].copy()\n",
    "    \n",
    "    for draft_month in draft_month_list:\n",
    "        train_data_draft=train_data[(train_data['month']==draft_month)].copy()\n",
    "        points = (train_data.Latitude.fillna(0),train_data.Longitude.fillna(0))\n",
    "        coordinates =[]\n",
    "        # Setting lat and long \n",
    "        lat = points[0]\n",
    "        long = points[1]\n",
    "\n",
    "    # Append latitude and longitude coordinates array\n",
    "        for la,lo in zip(lat,long):\n",
    "            coordinates.append([la,lo])\n",
    "\n",
    "        train_heatLayer=folium.FeatureGroup(name=f'train_heat_map_{draft_year}_{draft_month}')\n",
    "        train_heatLayer.add_to(map_)\n",
    "        train_heatLayer.add_child(plugins.HeatMap(coordinates[0:20000]))\n",
    "       \n",
    "folium.LayerControl(position='topright', collapsed=False, autoZIndex=False).add_to(map_)\n",
    "map_.save(f\"train_heat_map.html\") "
   ]
  },
  {
   "cell_type": "code",
   "execution_count": null,
   "metadata": {},
   "outputs": [],
   "source": []
  },
  {
   "cell_type": "code",
   "execution_count": null,
   "metadata": {},
   "outputs": [],
   "source": []
  }
 ],
 "metadata": {
  "celltoolbar": "Slideshow",
  "kernelspec": {
   "display_name": "Python 3 (ipykernel)",
   "language": "python",
   "name": "python3"
  },
  "language_info": {
   "codemirror_mode": {
    "name": "ipython",
    "version": 3
   },
   "file_extension": ".py",
   "mimetype": "text/x-python",
   "name": "python",
   "nbconvert_exporter": "python",
   "pygments_lexer": "ipython3",
   "version": "3.10.6"
  },
  "toc": {
   "base_numbering": 1,
   "nav_menu": {},
   "number_sections": true,
   "sideBar": true,
   "skip_h1_title": false,
   "title_cell": "Table of Contents",
   "title_sidebar": "Contents",
   "toc_cell": false,
   "toc_position": {
    "height": "calc(100% - 180px)",
    "left": "10px",
    "top": "150px",
    "width": "358.391px"
   },
   "toc_section_display": true,
   "toc_window_display": true
  },
  "varInspector": {
   "cols": {
    "lenName": 16,
    "lenType": 16,
    "lenVar": 40
   },
   "kernels_config": {
    "python": {
     "delete_cmd_postfix": "",
     "delete_cmd_prefix": "del ",
     "library": "var_list.py",
     "varRefreshCmd": "print(var_dic_list())"
    },
    "r": {
     "delete_cmd_postfix": ") ",
     "delete_cmd_prefix": "rm(",
     "library": "var_list.r",
     "varRefreshCmd": "cat(var_dic_list()) "
    }
   },
   "types_to_exclude": [
    "module",
    "function",
    "builtin_function_or_method",
    "instance",
    "_Feature"
   ],
   "window_display": false
  }
 },
 "nbformat": 4,
 "nbformat_minor": 4
}
