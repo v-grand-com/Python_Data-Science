{
 "cells": [
  {
   "cell_type": "markdown",
   "metadata": {
    "slideshow": {
     "slide_type": "slide"
    }
   },
   "source": [
    "###### Project"
   ]
  },
  {
   "cell_type": "code",
   "execution_count": 4,
   "metadata": {},
   "outputs": [
    {
     "data": {
      "text/plain": [
       "'DataSets={1:spray_data,\\n         2:train_data,\\n         3:weather_data,\\n         4:test_truncated_data}\\n'"
      ]
     },
     "execution_count": 4,
     "metadata": {},
     "output_type": "execute_result"
    }
   ],
   "source": [
    "import pandas as pd\n",
    "#import sqlite3\n",
    "import numpy as np\n",
    "import matplotlib as mpl\n",
    "import matplotlib.pyplot as plt\n",
    "import math\n",
    "import datetime as dt\n",
    "import folium\n",
    "from folium import plugins\n",
    "import geopandas\n",
    "from shapely.geometry.polygon import LinearRing, Polygon\n",
    "\n",
    "spray_data = pd.read_csv(\n",
    "    'Files/spray.csv',  # шлях до файлу, який містить дані\n",
    "    sep=',',  # роздільник стовпців\n",
    "    header=0  # номер рядка, що містить заголовок (якщо заголовка немає, можна передати None)\n",
    ")\n",
    "\n",
    "train_data = pd.read_csv(\n",
    "    'Files/train.csv',  # шлях до файлу, який містить дані\n",
    "    sep=',',  # роздільник стовпців\n",
    "    \n",
    "    header=0  # номер рядка, що містить заголовок (якщо заголовка немає, можна передати None)\n",
    ")\n",
    "\n",
    "weather_data = pd.read_csv(\n",
    "    'Files/weather.csv',  # шлях до файлу, який містить дані\n",
    "    sep=',',  # роздільник стовпців\n",
    "    header=0  # номер рядка, що містить заголовок (якщо заголовка немає, можна передати None)\n",
    ")\n",
    "\n",
    "test_truncated_data = pd.read_excel(\n",
    "    'Files/test_truncated.xlsx',\n",
    "    sheet_name='test_truncated',  # прочитати всі листи\n",
    "    usecols=\"A:J\"\n",
    "    #nrows=5\n",
    ")\n",
    "\n",
    "'''DataSets={1:spray_data,\n",
    "         2:train_data,\n",
    "         3:weather_data,\n",
    "         4:test_truncated_data}\n",
    "'''\n",
    "\n",
    "#test_truncated_data.head()\n",
    "#dates=spray_data [['Date'],['Time']]\n",
    "#train_data.groupby(train_data[\"Address\"])\n",
    "#dir(spray_data)\n",
    "#spray_data.amin(axes='Latitude')\n",
    "#test_truncated_data.info()\n",
    "#train_data\n",
    "#weather_data\n",
    "#spray_data"
   ]
  },
  {
   "cell_type": "code",
   "execution_count": 5,
   "metadata": {},
   "outputs": [],
   "source": [
    "#spray_data_polygon=spray_data.copy()\n",
    "\n",
    "#spray_data['hour']=pd.to_datetime(spray_data.Time).dt.day\n",
    "#spray_data['minute']=pd.to_datetime(spray_data.Time).dt.weekday\n",
    "#spray_data['day']=pd.to_datetime(spray_data.Date).dt.day\n",
    "#spray_data['weekday']=pd.to_datetime(spray_data.Date).dt.weekday\n",
    "spray_data['month']=pd.to_datetime(spray_data.Date).dt.month\n",
    "spray_data['year']=pd.to_datetime(spray_data.Date).dt.year\n",
    "\n",
    "#spray_data_polygon=spray_data_polygon.drop('Date', axis=1)\n",
    "#spray_data_polygon=spray_data_polygon.drop('Time', axis=1)\n",
    "\n",
    "train_data['month']=pd.to_datetime(train_data.Date).dt.month\n",
    "train_data['year']=pd.to_datetime(train_data.Date).dt.year\n",
    "train_data['RESTUANS']=train_data['Species'].str.contains('RESTUANS')\n",
    "train_data['PIPIENS']=train_data['Species'].str.contains('PIPIENS')\n",
    "#train_data[train_data['WnvPresent']>0]"
   ]
  },
  {
   "cell_type": "code",
   "execution_count": 6,
   "metadata": {},
   "outputs": [],
   "source": [
    "def Prepear_coordinat(df):\n",
    "    df_copy=df.copy()\n",
    "    list_drop_column={'Latitude', 'Longitude'}\n",
    "\n",
    "    for colomn in df_copy.columns:\n",
    "        if colomn in list_drop_column:\n",
    "            pass\n",
    "        else:\n",
    "            df_copy=df_copy.drop(colomn, axis=1)\n",
    "                \n",
    "    my_array = np.asarray (df_copy)\n",
    "    \n",
    "    return my_array"
   ]
  },
  {
   "cell_type": "code",
   "execution_count": 7,
   "metadata": {},
   "outputs": [],
   "source": [
    "'''def Prepear_coordinat(df):\n",
    "    df_copy=df.copy()\n",
    "    list_drop_column={'Date', 'Time', 'month', 'year', \n",
    "                 'Address', 'Species', 'Block', 'Species', 'Block',\n",
    "                'Street', 'Street', 'Trap', 'AddressNumberAndStreet',\n",
    "                 'NumMosquitos', 'WnvPresent', 'AddressAccuracy', 'WnvPresent'}\n",
    "\n",
    "    for colomn in df_copy.columns:\n",
    "        if colomn in list_drop_column:\n",
    "                df_copy=df_copy.drop(colomn, axis=1)\n",
    "                \n",
    "    my_array = np.asarray (df_copy)\n",
    "    \n",
    "    return my_array'''\n",
    "\n",
    "def Add_shapesLayer_Polygon(df):\n",
    "    if Prepear_coordinat(df).shape[0]>0:        \n",
    "        return folium.Polygon(Prepear_coordinat(df),\n",
    "                              color='red',\n",
    "                              weight=4,\n",
    "                              fill=True,\n",
    "                              fill_color='green',\n",
    "                              fill_opacity=0.6)\n",
    "\n",
    "def numMosquitos(draft_year, draft_month):\n",
    "    numMosquitos=train_data[(geo_df['Trap'] == geo_df.Trap[i]) & (geo_df['month']==draft_month) \n",
    "                   & (geo_df['year']==draft_year)]['WnvPresent'].sum()\n",
    "    return str(numMosquitos)    "
   ]
  },
  {
   "cell_type": "code",
   "execution_count": 8,
   "metadata": {},
   "outputs": [],
   "source": [
    "def centr_map():\n",
    "    map_ = folium.Map(location=[train_data['Latitude'].mean(),  train_data['Longitude'].mean()],\n",
    "               tiles=\"Stamen Terrain\", zoom_start=10, control_scale=False)\n",
    "    return map_ "
   ]
  },
  {
   "cell_type": "markdown",
   "metadata": {},
   "source": [
    "#Spray data add to map\n",
    "draft_year_list={2011, 2013}\n",
    "draft_month_list={6, 7, 8, 9}\n",
    "\n",
    "draft_year=2003\n",
    "\n",
    "map_=centr_map()\n",
    "\n",
    "for draft_year in draft_year_list:\n",
    "    spray_data_year=spray_data[spray_data['year']==draft_year].copy()\n",
    "    draft_month=1\n",
    "    if spray_data_year.shape[0]>0:\n",
    "        for draft_month in draft_month_list:\n",
    "            spray_data_month=spray_data_year[spray_data_year['month']==draft_month].copy()\n",
    "            if spray_data_month.shape[0]>0:\n",
    "                shapesLayer=folium.FeatureGroup(name=f'spray_{draft_year}_{draft_month}')\n",
    "                shapesLayer.add_to(map_)\n",
    "                Add_shapesLayer_Polygon(spray_data_month).add_to(shapesLayer)\n",
    "\n",
    "            draft_month=draft_month+1\n",
    "    \n",
    "    draft_year=draft_year+1\n",
    "#folium.LayerControl().add_to(map_)\n",
    "#map_.save(f\"spray_map.html\")"
   ]
  },
  {
   "cell_type": "code",
   "execution_count": 9,
   "metadata": {},
   "outputs": [
    {
     "ename": "NameError",
     "evalue": "name 'm' is not defined",
     "output_type": "error",
     "traceback": [
      "\u001b[1;31m---------------------------------------------------------------------------\u001b[0m",
      "\u001b[1;31mNameError\u001b[0m                                 Traceback (most recent call last)",
      "Cell \u001b[1;32mIn [9], line 12\u001b[0m\n\u001b[0;32m      9\u001b[0m geo_df_list \u001b[38;5;241m=\u001b[39m [[point\u001b[38;5;241m.\u001b[39mxy[\u001b[38;5;241m1\u001b[39m][\u001b[38;5;241m0\u001b[39m], point\u001b[38;5;241m.\u001b[39mxy[\u001b[38;5;241m0\u001b[39m][\u001b[38;5;241m0\u001b[39m]] \u001b[38;5;28;01mfor\u001b[39;00m point \u001b[38;5;129;01min\u001b[39;00m geo_df\u001b[38;5;241m.\u001b[39mgeometry]\n\u001b[0;32m     11\u001b[0m wnvpresentsLayer\u001b[38;5;241m=\u001b[39mfolium\u001b[38;5;241m.\u001b[39mFeatureGroup(name\u001b[38;5;241m=\u001b[39m\u001b[38;5;124m'\u001b[39m\u001b[38;5;124mwnvpresents\u001b[39m\u001b[38;5;124m'\u001b[39m)\n\u001b[1;32m---> 12\u001b[0m wnvpresentsLayer\u001b[38;5;241m.\u001b[39madd_to(\u001b[43mm\u001b[49m)\n\u001b[0;32m     14\u001b[0m \u001b[38;5;66;03m# Iterate through list and add a marker for each volcano, color-coded by its type.\u001b[39;00m\n\u001b[0;32m     15\u001b[0m i \u001b[38;5;241m=\u001b[39m \u001b[38;5;241m0\u001b[39m\n",
      "\u001b[1;31mNameError\u001b[0m: name 'm' is not defined"
     ]
    }
   ],
   "source": [
    "# train_data_point_map\n",
    "draft_year_list={2007, 2009, 2013}\n",
    "draft_month_list={6, 7, 8, 9}\n",
    "\n",
    "geometry = geopandas.points_from_xy(train_data.Longitude, train_data.Latitude)\n",
    "geo_df = geopandas.GeoDataFrame(\n",
    "    train_data, geometry=geometry\n",
    ")\n",
    "geo_df_list = [[point.xy[1][0], point.xy[0][0]] for point in geo_df.geometry]\n",
    "\n",
    "wnvpresentsLayer=folium.FeatureGroup(name='wnvpresents')\n",
    "wnvpresentsLayer.add_to(m)\n",
    "\n",
    "# Iterate through list and add a marker for each volcano, color-coded by its type.\n",
    "i = 0\n",
    "for coordinates in geo_df_list:\n",
    "    if (geo_df.month[i] == draft_month) and  (geo_df.year[i] == draft_year):\n",
    "        wnvpresents=int(train_data[(geo_df['Trap'] == geo_df.Trap[i]) & (geo_df['month']==draft_month) \n",
    "                   & (geo_df['year']==draft_year)]['WnvPresent'].sum())\n",
    "        if wnvpresents>0:\n",
    "            if geo_df.PIPIENS[i] == True:\n",
    "                type_color = \"green\"\n",
    "            if (geo_df.RESTUANS[i] == True):\n",
    "                type_color = \"red\"\n",
    "                # Place the markers with the popup labels and data\n",
    "            wnvpresentsLayer.add_child(\n",
    "                folium.Marker(\n",
    "                    location=coordinates,\n",
    "                    popup=geo_df.Trap[i]+ \"<br>\"\n",
    "                    +'wnvpresents '+ str(wnvpresents)+ \"<br>\"+'numMosquitos '+ str(numMosquitos(draft_year, draft_month)),\n",
    "                    icon=folium.Icon(color=\"%s\" % type_color)\n",
    "                    )\n",
    "            )\n",
    "    i = i + 1\n",
    "    \n",
    "folium.LayerControl().add_to(m)\n",
    "#map_.save(f\"spray_map.html\")"
   ]
  },
  {
   "cell_type": "code",
   "execution_count": null,
   "metadata": {},
   "outputs": [],
   "source": [
    "train_data"
   ]
  },
  {
   "cell_type": "code",
   "execution_count": null,
   "metadata": {},
   "outputs": [],
   "source": [
    "# train_data_heat_map\n",
    "draft_year_list={2007, 2009, 2013}\n",
    "draft_month_list={6, 7, 8, 9}\n",
    "for draft_year in draft_year_list:\n",
    "    data_year=train_data[train_data['year']==draft_year].copy()\n",
    "    \n",
    "    for draft_month in draft_month_list:\n",
    "        train_data_draft=train_data[(train_data['month']==draft_month)].copy()\n",
    "        points = (train_data.Latitude.fillna(0),train_data.Longitude.fillna(0))\n",
    "        coordinates =[]\n",
    "        # Setting lat and long \n",
    "        lat = points[0]\n",
    "        long = points[1]\n",
    "\n",
    "    # Append latitude and longitude coordinates array\n",
    "        for la,lo in zip(lat,long):\n",
    "            coordinates.append([la,lo])\n",
    "\n",
    "        train_heatLayer=folium.FeatureGroup(name=f'train_heat_map_{draft_year}_{draft_month}')\n",
    "        train_heatLayer.add_to(map_)\n",
    "        train_heatLayer.add_child(plugins.HeatMap(coordinates[0:20000]))\n",
    "       \n",
    "folium.LayerControl(position='topright', collapsed=False, autoZIndex=False).add_to(map_)\n",
    "map_.save(f\"train_heat_map.html\") "
   ]
  },
  {
   "cell_type": "code",
   "execution_count": 30,
   "metadata": {},
   "outputs": [],
   "source": [
    "def group_data(_data, grop_list_, agr_colum, agr_func):\n",
    "    grop_list=[grop_list_]\n",
    "    agg_func_math = {\n",
    "        agr_colum: [agr_func]\n",
    "    }\n",
    "    dict_data=_data.groupby(grop_list, group_keys=True, dropna=True).agg(agg_func_math).to_dict()[(agr_colum, agr_func)]\n",
    "    df=pd.DataFrame(list(dict_data. items ()), columns = [grop_list_, agr_colum])\n",
    "    #df.set_index(df[grop_list], *, drop=True, append=False, inplace=False, verify_integrity=False)[source]\n",
    "    df.set_index(grop_list, inplace=True)\n",
    "    return df.copy()\n",
    "\n"
   ]
  },
  {
   "cell_type": "code",
   "execution_count": 56,
   "metadata": {},
   "outputs": [],
   "source": [
    "#df = pd.read_csv(io.StringIO(data), delim_whitespace=True)\n",
    "#df=spray_data.copy()\n",
    "df=group_data(spray_data.copy(), 'Date', 'Latitude', 'min')\n",
    "Longitude=group_data(spray_data, 'Date', 'Longitude', 'min')\n",
    "frames = [df, Longitude]\n",
    "result = pd.concat(frames, axis=1)\n",
    "result.reset_index(inplace=True)\n",
    "result.set_index('Date')\n",
    "df=result\n",
    "\n",
    "df['Date'] = df['Date'].sort_values(ascending=True)\n",
    "data = []\n",
    "\n",
    "for _, d in df.groupby('Date'):\n",
    "    data.append([[row['Latitude'], row['Longitude'], 1] for _, row in d.iterrows()])\n",
    "\n",
    "import folium\n",
    "import folium.plugins as plugins\n",
    "m=centr_map()\n",
    "#sprayLayer=folium.FeatureGroup(name=f'spray_data')\n",
    "#sprayLayer.add_to(m)\n",
    "#m = folium.Map(location=[40.43, -3.703], zoom_start=13, tiles='CartoDB positron')\n",
    "'''sprayLayer = sprayLayer.add_child(plugins.HeatMapWithTime(data, auto_play=True,\n",
    "                             display_index=True,\n",
    "                             gradient={0.2: 'blue', 0.4: 'lime', 0.6: 'orange', 1: 'red'},\n",
    "                             index=df['Date'].tolist(),\n",
    "                             max_opacity=0.8))'''\n",
    "hm = plugins.HeatMapWithTime(data, auto_play=True,\n",
    "                             display_index=True,\n",
    "                             gradient={0.2: 'blue', 0.4: 'lime', 0.6: 'orange', 1: 'red'},\n",
    "                             index=df['Date'].tolist(),\n",
    "                             max_opacity=0.8)\n",
    "\n",
    "\n",
    "\n",
    "hm.add_to(m)\n",
    "#folium.LayerControl(position='topright', collapsed=False, autoZIndex=False).add_to(m)\n",
    "m.save(f\"spray_data_1.html\") "
   ]
  },
  {
   "cell_type": "code",
   "execution_count": null,
   "metadata": {},
   "outputs": [],
   "source": []
  }
 ],
 "metadata": {
  "celltoolbar": "Slideshow",
  "kernelspec": {
   "display_name": "Python 3 (ipykernel)",
   "language": "python",
   "name": "python3"
  },
  "language_info": {
   "codemirror_mode": {
    "name": "ipython",
    "version": 3
   },
   "file_extension": ".py",
   "mimetype": "text/x-python",
   "name": "python",
   "nbconvert_exporter": "python",
   "pygments_lexer": "ipython3",
   "version": "3.11.0"
  },
  "toc": {
   "base_numbering": 1,
   "nav_menu": {},
   "number_sections": true,
   "sideBar": true,
   "skip_h1_title": false,
   "title_cell": "Table of Contents",
   "title_sidebar": "Contents",
   "toc_cell": false,
   "toc_position": {
    "height": "calc(100% - 180px)",
    "left": "10px",
    "top": "150px",
    "width": "358.391px"
   },
   "toc_section_display": true,
   "toc_window_display": true
  },
  "varInspector": {
   "cols": {
    "lenName": 16,
    "lenType": 16,
    "lenVar": 40
   },
   "kernels_config": {
    "python": {
     "delete_cmd_postfix": "",
     "delete_cmd_prefix": "del ",
     "library": "var_list.py",
     "varRefreshCmd": "print(var_dic_list())"
    },
    "r": {
     "delete_cmd_postfix": ") ",
     "delete_cmd_prefix": "rm(",
     "library": "var_list.r",
     "varRefreshCmd": "cat(var_dic_list()) "
    }
   },
   "types_to_exclude": [
    "module",
    "function",
    "builtin_function_or_method",
    "instance",
    "_Feature"
   ],
   "window_display": false
  }
 },
 "nbformat": 4,
 "nbformat_minor": 4
}
