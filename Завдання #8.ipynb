{
 "cells": [
  {
   "cell_type": "markdown",
   "id": "90d47da5",
   "metadata": {},
   "source": [
    "Біноміальний розподіл\n"
   ]
  },
  {
   "cell_type": "code",
   "execution_count": 6,
   "id": "11152afd",
   "metadata": {},
   "outputs": [
    {
     "name": "stdout",
     "output_type": "stream",
     "text": [
      "0.36\n"
     ]
    }
   ],
   "source": [
    "import numpy as np\n",
    "from scipy import stats\n",
    "import matplotlib.pyplot as plt\n",
    "\n",
    "n=1\n",
    "p=0.8\n",
    "k=5\n",
    "student_result=np.random.binomial(n,p,k)\n",
    "class_result = np.random.choice(student_result.sum(), size=100, replace=True)\n",
    "print (sum([1 for item in class_result if item >= 3]) / len(class_result))\n",
    "\n",
    "#mean, var, skew, kurt = binom.stats(n, p, moments='mvsk')\n",
    "#mean, var, skew, kurt "
   ]
  },
  {
   "cell_type": "markdown",
   "id": "b8f5a930",
   "metadata": {},
   "source": [
    "Пуассонівський розподіл"
   ]
  },
  {
   "cell_type": "code",
   "execution_count": 7,
   "id": "8251aa1a",
   "metadata": {},
   "outputs": [
    {
     "data": {
      "text/plain": [
       "0.14936120510359185"
      ]
     },
     "execution_count": 7,
     "metadata": {},
     "output_type": "execute_result"
    }
   ],
   "source": [
    "stats.poisson.pmf (k=1, mu=3)\n",
    "#plt.hist (x, density= True , edgecolor='black')"
   ]
  },
  {
   "cell_type": "markdown",
   "id": "08f52dcd",
   "metadata": {},
   "source": [
    "Нормальний закон розподілу"
   ]
  },
  {
   "cell_type": "code",
   "execution_count": 8,
   "id": "0e6db356",
   "metadata": {},
   "outputs": [
    {
     "data": {
      "text/plain": [
       "0.2136"
      ]
     },
     "execution_count": 8,
     "metadata": {},
     "output_type": "execute_result"
    }
   ],
   "source": [
    "a=4.5\n",
    "b=0.5\n",
    "c=4.9\n",
    "r=100000\n",
    "\n",
    "x = np.random.normal(\n",
    "     loc=a, # Середнє значення величини\n",
    "     scale=b, # стандартне відхилення\n",
    "     size=r # кількість прикладів, які потрібно згенерувати\n",
    ")\n",
    "len(x[x>c])/r\n"
   ]
  },
  {
   "cell_type": "code",
   "execution_count": 9,
   "id": "57d9df31",
   "metadata": {},
   "outputs": [
    {
     "data": {
      "text/plain": [
       "0.3728"
      ]
     },
     "execution_count": 9,
     "metadata": {},
     "output_type": "execute_result"
    }
   ],
   "source": [
    "x_min, x_max = 0, 80\n",
    "y_min, y_max = 30, 60\n",
    "r=10000\n",
    "y = np.random.uniform(low=x_min, high=x_max, size=r)\n",
    "#np.where (y>y_min & y<y_max, 1, 0)\n",
    "y=y[y>y_min]\n",
    "y=y[y<y_max]\n",
    "len(y)/r"
   ]
  },
  {
   "cell_type": "code",
   "execution_count": null,
   "id": "d02fd8ec",
   "metadata": {},
   "outputs": [],
   "source": []
  }
 ],
 "metadata": {
  "kernelspec": {
   "display_name": "Python 3 (ipykernel)",
   "language": "python",
   "name": "python3"
  },
  "language_info": {
   "codemirror_mode": {
    "name": "ipython",
    "version": 3
   },
   "file_extension": ".py",
   "mimetype": "text/x-python",
   "name": "python",
   "nbconvert_exporter": "python",
   "pygments_lexer": "ipython3",
   "version": "3.10.6"
  }
 },
 "nbformat": 4,
 "nbformat_minor": 5
}
