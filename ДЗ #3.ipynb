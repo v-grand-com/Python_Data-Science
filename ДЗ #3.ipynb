{
 "cells": [
  {
   "cell_type": "markdown",
   "metadata": {
    "slideshow": {
     "slide_type": "slide"
    }
   },
   "source": [
    "# Вправи\n",
    "(використовувати тільки матричні операції)"
   ]
  },
  {
   "cell_type": "markdown",
   "metadata": {
    "slideshow": {
     "slide_type": "slide"
    }
   },
   "source": [
    "1. Отримати суму елементів та суму квадратів елементів вектора:"
   ]
  },
  {
   "cell_type": "code",
   "execution_count": 88,
   "metadata": {
    "slideshow": {
     "slide_type": "fragment"
    }
   },
   "outputs": [
    {
     "name": "stdout",
     "output_type": "stream",
     "text": [
      "21.0\n",
      "[ 1  4  9 16 25 36]\n",
      "91.0\n",
      "1\n"
     ]
    }
   ],
   "source": [
    "import numpy as np\n",
    "import linalg\n",
    "v = np.array([1, 2, 3, 4, 5, 6])\n",
    "print(np.ones(len(v)).dot(v))\n",
    "print (v*v)\n",
    "print(np.ones(len(v)).dot(v*v))\n",
    "#np.linalg.matrix_power(v,2)\n",
    "\n",
    "print(len(v.shape))\n"
   ]
  },
  {
   "cell_type": "code",
   "execution_count": 16,
   "metadata": {},
   "outputs": [],
   "source": [
    "# np.sum(v) не можна використовувати"
   ]
  },
  {
   "cell_type": "code",
   "execution_count": 17,
   "metadata": {},
   "outputs": [
    {
     "data": {
      "text/plain": [
       "91"
      ]
     },
     "execution_count": 17,
     "metadata": {},
     "output_type": "execute_result"
    }
   ],
   "source": [
    "v.dot(v)"
   ]
  },
  {
   "cell_type": "markdown",
   "metadata": {
    "slideshow": {
     "slide_type": "slide"
    }
   },
   "source": [
    "2. Для вектора попереднього завдання побудувати вектор, кожним елементом якого є середнє значення вектора."
   ]
  },
  {
   "cell_type": "code",
   "execution_count": 55,
   "metadata": {},
   "outputs": [
    {
     "data": {
      "text/plain": [
       "array([3.5, 3.5, 3.5, 3.5, 3.5, 3.5])"
      ]
     },
     "execution_count": 55,
     "metadata": {},
     "output_type": "execute_result"
    }
   ],
   "source": [
    "np.ones(len(v))* np.average(v, weights =np.ones(len(v)))"
   ]
  },
  {
   "cell_type": "markdown",
   "metadata": {
    "slideshow": {
     "slide_type": "slide"
    }
   },
   "source": [
    "3. Написати функцію, яка приймає на вхід довільну кількість матриць, перевіряє, чи можна їх перемножити, і якщо можна, то повертає розмірність результату (можна скористатися циклом). "
   ]
  },
  {
   "cell_type": "code",
   "execution_count": 108,
   "metadata": {},
   "outputs": [],
   "source": [
    "def matrix_mult(args_1, args_2):\n",
    "    if len(args_1.shape)>1:\n",
    "        print(args_1.shape)\n",
    "        if args_1.shape[1]==args_2.shape[0]:\n",
    "            return np.array([args_2.shape[0], args_1.shape[1]])\n",
    "        else:\n",
    "            return False\n",
    "    else:\n",
    "        return False\n",
    "\n",
    "  "
   ]
  },
  {
   "cell_type": "markdown",
   "metadata": {
    "slideshow": {
     "slide_type": "slide"
    }
   },
   "source": [
    "4.Обчислити вираз:"
   ]
  },
  {
   "cell_type": "markdown",
   "metadata": {
    "slideshow": {
     "slide_type": "slide"
    }
   },
   "source": [
    "$$\\sum_{i=1}^n(x_{i} - avg(x))^{2}$$"
   ]
  },
  {
   "cell_type": "code",
   "execution_count": 92,
   "metadata": {},
   "outputs": [
    {
     "name": "stdout",
     "output_type": "stream",
     "text": [
      "17.5\n"
     ]
    }
   ],
   "source": [
    " \n",
    "avr_v=np.average(v, weights =np.ones(len(v)))\n",
    "#print(avr_v)\n",
    "Xi_avr_v=(v-np.ones(len(v))*avr_v)\n",
    "print(np.ones(len(v)).dot(Xi_avr_v*Xi_avr_v))\n",
    " "
   ]
  },
  {
   "cell_type": "markdown",
   "metadata": {
    "slideshow": {
     "slide_type": "slide"
    }
   },
   "source": [
    "5. Вивести матрицю, яка при множенні на вектор зліва (Мх) приводить його до форми відхилення від середнього значення. Тобто, кожним елементом вектора-результату буде відповідний елемент вхідного вектора мінус середнє значення. Матриця М не повинна залежати від вхідного вектора x, а лише від його довжини. Іншими словами, для створення такої матриці має бути достатньо лише знання скільки в них елементів."
   ]
  },
  {
   "cell_type": "markdown",
   "metadata": {
    "slideshow": {
     "slide_type": "slide"
    }
   },
   "source": [
    "6. Розв'язати систему рівнянь (можна скористатися функцією кореня):"
   ]
  },
  {
   "cell_type": "markdown",
   "metadata": {
    "slideshow": {
     "slide_type": "fragment"
    }
   },
   "source": [
    "$$\n",
    "47a^{2} + 71b - 2c = 3\\\\\\\n",
    "11b - 8c = 3\\\\\\\n",
    "a^{2} + b + c = 24\\\\\\\n",
    "$$"
   ]
  },
  {
   "cell_type": "code",
   "execution_count": 93,
   "metadata": {},
   "outputs": [
    {
     "name": "stdout",
     "output_type": "stream",
     "text": [
      "[[47 71 -2]\n",
      " [ 0 11 -8]\n",
      " [ 1  1  1]]\n",
      "[ 3  3 24]\n",
      "None\n"
     ]
    }
   ],
   "source": [
    "a=np.array([[47,71,-2],[0,11,-8],[1,1,1]])\n",
    "print(a)\n",
    "b=np.array([3,3,24])\n",
    "print(b)\n",
    "np.linalg.solve(a, b)\n",
    "\n"
   ]
  },
  {
   "cell_type": "code",
   "execution_count": 109,
   "metadata": {},
   "outputs": [
    {
     "name": "stdout",
     "output_type": "stream",
     "text": [
      "(3, 3)\n"
     ]
    },
    {
     "data": {
      "text/plain": [
       "array([3, 3])"
      ]
     },
     "execution_count": 109,
     "metadata": {},
     "output_type": "execute_result"
    }
   ],
   "source": [
    "matrix_mult(a, b)"
   ]
  },
  {
   "cell_type": "code",
   "execution_count": null,
   "metadata": {},
   "outputs": [],
   "source": []
  }
 ],
 "metadata": {
  "celltoolbar": "Slideshow",
  "kernelspec": {
   "display_name": "Python 3 (ipykernel)",
   "language": "python",
   "name": "python3"
  },
  "language_info": {
   "codemirror_mode": {
    "name": "ipython",
    "version": 3
   },
   "file_extension": ".py",
   "mimetype": "text/x-python",
   "name": "python",
   "nbconvert_exporter": "python",
   "pygments_lexer": "ipython3",
   "version": "3.10.6"
  },
  "toc": {
   "base_numbering": 1,
   "nav_menu": {},
   "number_sections": true,
   "sideBar": true,
   "skip_h1_title": false,
   "title_cell": "Table of Contents",
   "title_sidebar": "Contents",
   "toc_cell": false,
   "toc_position": {},
   "toc_section_display": true,
   "toc_window_display": true
  },
  "varInspector": {
   "cols": {
    "lenName": 16,
    "lenType": 16,
    "lenVar": 40
   },
   "kernels_config": {
    "python": {
     "delete_cmd_postfix": "",
     "delete_cmd_prefix": "del ",
     "library": "var_list.py",
     "varRefreshCmd": "print(var_dic_list())"
    },
    "r": {
     "delete_cmd_postfix": ") ",
     "delete_cmd_prefix": "rm(",
     "library": "var_list.r",
     "varRefreshCmd": "cat(var_dic_list()) "
    }
   },
   "types_to_exclude": [
    "module",
    "function",
    "builtin_function_or_method",
    "instance",
    "_Feature"
   ],
   "window_display": false
  }
 },
 "nbformat": 4,
 "nbformat_minor": 2
}
